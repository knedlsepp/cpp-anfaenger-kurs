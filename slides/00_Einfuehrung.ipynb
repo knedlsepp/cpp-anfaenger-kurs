{
 "cells": [
  {
   "cell_type": "markdown",
   "metadata": {
    "slideshow": {
     "slide_type": "slide"
    }
   },
   "source": [
    "# C++ Starterkurs "
   ]
  },
  {
   "cell_type": "markdown",
   "metadata": {},
   "source": [
    "- Überblick\n",
    "- Variablen\n",
    "- Blöcke\n",
    "- Kontrollstrukturen\n",
    "- Schleifen\n",
    "- Funktionen\n",
    "- Präprozessor\n",
    "- Stack vs. Heap\n",
    "- Call by value\n",
    "- Pointer\n",
    "- By value, By reference\n",
    "- `array`, `<vector>`, `<string>` (http://www.cplusplus.com/reference/)\n",
    "- `<algorithm>`, `<numeric>`\n",
    "- Exceptions\n",
    "- Namespaces\n",
    "- Klassen\n",
    "- Konstruktor/Destruktor\n",
    "- new/delete\n",
    "- Vererbung\n",
    "- Templates\n",
    "- C++11\n",
    "  - lambdas\n",
    "  - enum class\n",
    "  - smart_pointer\n",
    "- http://www.cplusplus.com/reference/\n",
    "- Nützliche Bibliotheken\n",
    "  - Generell: Boost\n",
    "  - Lineare Algebra: Eigen, Armadillo\n",
    "  - Unit testing: Catch, Boost.Test"
   ]
  },
  {
   "cell_type": "markdown",
   "metadata": {
    "collapsed": true,
    "slideshow": {
     "slide_type": "slide"
    }
   },
   "source": [
    "##Überblick C++:\n",
    "- kompilierte Programmiersprache mit starker Typisierung\n",
    "- Weiterentwicklung von C (echte Obermenge)\n",
    "- Schöpfer: Bjarne Stroustrup (Dänemark)\n",
    "- Entwicklung ab 1979 bei AT&T, aktuell liefern C++11 und C++14 viele Vereinfachungen (und C++17 ist auf dem Weg.)\n",
    "- C++ ist abwärtskompatibel zu C $\\to$ größte Stärke und Schwäche zugleich\n",
    "- Philosophie: Hohe Abstraktion ohne für ungenutzte Features zahlen zu müssen (z.B. garbage collector)\n",
    "\n",
    "Mein Ziel dieses Kurses:\n",
    "- Einblick in modernes C++14 geben\n",
    "- Alte Konstrukte kurz ansprechen um fremden Code lesen zu können. "
   ]
  },
  {
   "cell_type": "markdown",
   "metadata": {
    "slideshow": {
     "slide_type": "subslide"
    }
   },
   "source": [
    "## Hello World:\n",
    "\n",
    "```C++\n",
    "#include <iostream>\n",
    "int main(int argc, char *argv[]){\n",
    "    std::cout << \"Hello World!\" << std::endl;\n",
    "    return 0;\n",
    "}\n",
    "```"
   ]
  },
  {
   "cell_type": "markdown",
   "metadata": {
    "slideshow": {
     "slide_type": "slide"
    }
   },
   "source": [
    "## Variablen"
   ]
  },
  {
   "cell_type": "markdown",
   "metadata": {},
   "source": [
    "### Basisdatentypen"
   ]
  },
  {
   "cell_type": "markdown",
   "metadata": {
    "slideshow": {
     "slide_type": "subslide"
    }
   },
   "source": [
    "###Ganzzahlen"
   ]
  },
  {
   "cell_type": "markdown",
   "metadata": {
    "slideshow": {
     "slide_type": "-"
    }
   },
   "source": [
    "- `char` (min. 8 bit)\n",
    "- `short` (min. 16 bit)\n",
    "- `int` (min. 16 bit)\n",
    "- `long` (min. 32 bit)\n",
    "- `long long` (min. 64 bit)\n",
    "\n",
    "**Beispiele (\"Literale\"):** `0`,   `-2`,   `100000000000LL`,   `0xDEADBEEF`,   `010`\n",
    "\n",
    "Alle obigen gibt es auch `unsigned` für ausschließlich positive Ganzzahlen.\n",
    "Tatsächliche Anzahl Bits hängt von der Hardware ab.\n",
    "\n",
    "**Achtung:** In Berechnungen `unsigned` mit obigen `signed` Variablen zu mischen führt zu unerwünschten Effekten.\n",
    "\n",
    "**Praxistipp:** Im Zweifel `int`."
   ]
  },
  {
   "cell_type": "markdown",
   "metadata": {
    "slideshow": {
     "slide_type": "subslide"
    }
   },
   "source": [
    "###Gleitkommazahlen:\n",
    "- `float`\n",
    "- `double`\n",
    "- `long double`\n",
    "\n",
    "**Beispiele:** `123.45`, ` 123.45e10`, ` .1E-100f`, ` 10e10L`"
   ]
  },
  {
   "cell_type": "markdown",
   "metadata": {},
   "source": [
    "Laut Standard:\n",
    "\n",
    "> There are three floating point types: float, double, and long double. The type double provides at least as much precision as float, and the type long double provides at least as much precision as double.\n",
    "\n",
    "> The value representation of floating-point types is implementation-defined.\n",
    "\n",
    "**Praxistipp:** Im Zweifel `double`."
   ]
  },
  {
   "cell_type": "markdown",
   "metadata": {
    "slideshow": {
     "slide_type": "subslide"
    }
   },
   "source": [
    "### <a href=\"http://cpp.sh/6jf\">Numerische Grenzen:</a>\n",
    "```C++\n",
    "#include <iostream>\n",
    "#include <limits>\n",
    "int main () {\n",
    "    std::cout << std::boolalpha;\n",
    "    std::cout << \"Minimum value for int: \"\n",
    "      << std::numeric_limits<int>::min()\n",
    "      << '\\n';\n",
    "    std::cout << \"Maximum value for int: \"\n",
    "      << std::numeric_limits<int>::max() \n",
    "      << '\\n';\n",
    "    std::cout << \"int is signed: \" \n",
    "      << std::numeric_limits<int>::is_signed \n",
    "      << '\\n';\n",
    "    std::cout << \"Non-sign bits in int: \" \n",
    "      << std::numeric_limits<int>::digits \n",
    "      << '\\n';\n",
    "    std::cout << \"int has infinity: \" \n",
    "      << std::numeric_limits<int>::has_infinity \n",
    "      << '\\n';\n",
    "    return 0;\n",
    "}\n",
    "```"
   ]
  },
  {
   "cell_type": "markdown",
   "metadata": {
    "slideshow": {
     "slide_type": "subslide"
    }
   },
   "source": [
    "### Die Wahrheit - Datentyp `bool`\n",
    "#### Beispiele (alle)\n",
    "- `true`\n",
    "- `false`\n",
    "\n",
    "#### Operatoren\n",
    "\n",
    "- `&&`: And\n",
    "- `||`: Or\n",
    "- `!`: Not"
   ]
  },
  {
   "cell_type": "markdown",
   "metadata": {
    "slideshow": {
     "slide_type": "subslide"
    }
   },
   "source": [
    "### Text:\n",
    "#### Einzelne Buchstaben:\n",
    "`char` und für Unicode: auch `wchar_t`, `char16_t`, `char32_t`\n",
    "Literale: Verwende single-quotes (')\n",
    "```C++\n",
    "'A'; // char\n",
    "L'A'; // wchar_t\n",
    "u'A'; //char16_t\n",
    "U'A'; //char32_t\n",
    "```\n",
    "**Praxistipp:** Da in unserem Bereich Unicode-Unterstützung zweitrangig ist: `char` verwenden."
   ]
  },
  {
   "cell_type": "markdown",
   "metadata": {
    "slideshow": {
     "slide_type": "subslide"
    }
   },
   "source": [
    "#### Zeichenketten im C-Stil:\n",
    "Um zu C Code kompatibel zu bleiben, sind Zeichenketten, die mit double-quotes (\") angegeben werden vom gleichen Typ wie in C, nämlich \"Pointer auf konstanten `char`\". \n",
    "Zusätzlich gibt es noch folgende Varianten.\n",
    "\n",
    "```C++\n",
    "// string literals\n",
    "\"hello\"; // const char*\n",
    "L\"hello\"; // const wchar_t*\n",
    "u\"hello\"; // const char16_t*\n",
    "U\"hello\"; // const char32_t*\n",
    "R\"(\"Hello world\")\"; // raw const char*\n",
    "```\n",
    "Siehe: http://en.cppreference.com/w/cpp/language/string_literal"
   ]
  },
  {
   "cell_type": "markdown",
   "metadata": {
    "slideshow": {
     "slide_type": "subslide"
    }
   },
   "source": [
    "#### Strings im C++ Stil:\n",
    "In C++ gibt es den Datentyp: `std::string`. Die zugehörigen Literale sehen so aus:\n",
    "```C++\n",
    "\"hello\"s; // 's' for std::string instead of const char*\n",
    "```\n",
    "Um diese zu verwenden muss im gleichen Block der `string_literals` Namespace verwendet werden.\n",
    "```C++\n",
    "using namespace std::string_literals;\n",
    "```\n",
    "\n",
    "- Memory management entfällt\n",
    "- Kann leicht verkettet, durchsucht, verglichen, kopiert werden, etc.. Siehe: http://www.cplusplus.com/reference/string/string/\n",
    "\n",
    "\n",
    "**Praxistipp:** Verwende `std::string` mittels `\"Text\"s` Literalen für Variablen. Bei `std::cout` reicht auch C-Style: `\"Text\"`.\n"
   ]
  },
  {
   "cell_type": "markdown",
   "metadata": {
    "slideshow": {
     "slide_type": "slide"
    }
   },
   "source": [
    "###Deklaration & Initialisierung \n",
    "Ich kaufe ein *\"a\"*."
   ]
  },
  {
   "cell_type": "markdown",
   "metadata": {
    "slideshow": {
     "slide_type": "fragment"
    }
   },
   "source": [
    "**Deklaration** einer Variablen/Funktion/Struktur/Klasse: \n",
    "- \"Sei $a$ eine ganze Zahl.\", \n",
    "- \"Sei $f$ eine Funktion von $\\mathbb{R} \\to \\mathbb{R}$\""
   ]
  },
  {
   "cell_type": "markdown",
   "metadata": {
    "slideshow": {
     "slide_type": "fragment"
    }
   },
   "source": [
    "**Initialisierung** einer Variablen: \n",
    "- \"Sei a = 3.\""
   ]
  },
  {
   "cell_type": "markdown",
   "metadata": {
    "slideshow": {
     "slide_type": "fragment"
    }
   },
   "source": [
    "**Definition** einer Funktion/Klasse:\n",
    "- Die zuvor nicht näher spezifizierte  Funktion ist $f := \\sin$."
   ]
  },
  {
   "cell_type": "markdown",
   "metadata": {
    "slideshow": {
     "slide_type": "subslide"
    }
   },
   "source": [
    "####Deklaration ohne Initialisierung. \n",
    "\n",
    "```C++\n",
    "int a; // Deklaration\n",
    "a = 0; // Zuweisung```"
   ]
  },
  {
   "cell_type": "markdown",
   "metadata": {
    "slideshow": {
     "slide_type": "fragment"
    }
   },
   "source": [
    "####Deklaration + Initialisierung, Typ: \"Wie in C\"\n",
    "\n",
    "```C++\n",
    "int a = 0; \n",
    "``` "
   ]
  },
  {
   "cell_type": "markdown",
   "metadata": {
    "slideshow": {
     "slide_type": "fragment"
    }
   },
   "source": [
    "####Object-style initialization aus C++ vor allem für benutzerdefinierte Typen\n",
    "\n",
    "```C++\n",
    "int a(0);\n",
    "```"
   ]
  },
  {
   "cell_type": "markdown",
   "metadata": {
    "slideshow": {
     "slide_type": "subslide"
    }
   },
   "source": [
    "####Member initialization in Konstruktoren\n",
    "\n",
    "```C++\n",
    "struct S {\n",
    "    int a;\n",
    "    S(): a(0) {}\n",
    "};\n",
    "```"
   ]
  },
  {
   "cell_type": "markdown",
   "metadata": {
    "slideshow": {
     "slide_type": "fragment"
    }
   },
   "source": [
    "####Initialisierung von Aggregaten (Arrays & *Plain-Old-Data*)\n",
    "\n",
    "```C++\n",
    "int a1[2] = {0,1};\n",
    "char a2[] = \"message\";\n",
    "char a3[] = {'m','e','s','s','a','g','e','\\0'};\n",
    "struct S {\n",
    "    int a,b;\n",
    "};\n",
    "S a = {0,1};\n",
    "```"
   ]
  },
  {
   "cell_type": "markdown",
   "metadata": {
    "slideshow": {
     "slide_type": "fragment"
    }
   },
   "source": [
    "Viele Möglichkeiten, nicht alles funktioniert in jedem Kontext.\n",
    "Führt bspw. dazu dass man POD-Member in Objekten nicht initialisieren kann und zum *most vexing parse*: `Widget w();`"
   ]
  },
  {
   "cell_type": "markdown",
   "metadata": {
    "slideshow": {
     "slide_type": "subslide"
    }
   },
   "source": [
    "C++11 vereinheitlicht dieses Wirrwarr durch eine neue Syntax die überall funktioniert:\n",
    "*Uniform (brace) initialization*\n",
    "```C++\n",
    "// Für einen Integer\n",
    "int a{0}; // \"Ich brauche ein a mit dem Wert 0.\"\n",
    "// Alternativ:\n",
    "int a{};  // {} liefert default Wert (bei int: 0)\n",
    "\n",
    "// Für einen Vektor von Integern\n",
    "std::vector<int> v{1,2,3,4};\n",
    "\n",
    "// Für einen Array\n",
    "int daten[4] {1,2,3,4};\n",
    "\n",
    "// etc.\n",
    "...\n",
    "```"
   ]
  },
  {
   "cell_type": "markdown",
   "metadata": {
    "slideshow": {
     "slide_type": "subslide"
    }
   },
   "source": [
    "## Input/Output\n",
    "\n",
    "- Header: `<iostream>`\n",
    "- Input: `cin`\n",
    "- Output: `cout`\n",
    "\n",
    "\n",
    "```C++\n",
    "#include <iostream>\n",
    "int main(){\n",
    "    using namespace std::string_literals;\n",
    "    auto input = \"\"s;\n",
    "    std::cin >> input;\n",
    "    std::cout << \"Hallo \" << input;\n",
    "}\n",
    "```"
   ]
  },
  {
   "cell_type": "markdown",
   "metadata": {},
   "source": [
    "### Der C++ Neuwagen: `auto`\n",
    "Darauf haben C++ Programmieren lange gewartet. \n",
    "Seit C++11 gibt es endlich das `auto` Keyword:\n",
    "```C++\n",
    "auto variable = wert;\n",
    "```\n",
    "oder\n",
    "```C++\n",
    "auto variable = Typ{wert};\n",
    "```\n",
    "Beispiel:\n",
    "```C++\n",
    "#include <iostream>\n",
    "int main() {\n",
    "\tauto i = 1;\n",
    "    auto d = 123.123;\n",
    "    auto l = long{11};\n",
    "    std::cout << i << \" \" << d << \" \" <<  l << std::endl;\n",
    "\treturn 0;\n",
    "}\n",
    "```\n"
   ]
  },
  {
   "cell_type": "markdown",
   "metadata": {
    "slideshow": {
     "slide_type": "subslide"
    }
   },
   "source": [
    "**Praxistipp:** Verwende AAA: http://herbsutter.com/2013/08/12/gotw-94-solution-aaa-style-almost-always-auto/\n",
    "Lediglich bei Funktionsdeklarationen muss der Parametertyp ausgeschrieben werden: (Bis C++17? Im Moment: templates)\n",
    "```C++\n",
    "\n",
    "auto a = 123;\n",
    "auto b = \"Text\"s;\n",
    "auto f(double x){\n",
    "    return 2*x;\n",
    "}\n",
    "auto c = f(12.123);\n",
    "```"
   ]
  },
  {
   "cell_type": "markdown",
   "metadata": {
    "slideshow": {
     "slide_type": "slide"
    }
   },
   "source": [
    "### Blöcke - Der unsichtbare Putztrupp"
   ]
  },
  {
   "cell_type": "markdown",
   "metadata": {
    "slideshow": {
     "slide_type": "fragment"
    }
   },
   "source": [
    "#### Scope & Lifetime\n",
    "```C++\n",
    "\n",
    "auto answer = 15;\n",
    "auto the_answer(){\n",
    "    auto answer = 42;\n",
    "    if (1+1 == 2){\n",
    "        auto answer = 3;\n",
    "    }\n",
    "    return answer;\n",
    "}\n",
    "std::cout << the_answer();\n",
    "std::cout << answer;\n",
    "```"
   ]
  },
  {
   "cell_type": "markdown",
   "metadata": {
    "slideshow": {
     "slide_type": "subslide"
    }
   },
   "source": [
    "### Kontrollstrukturen\n",
    "#### Die Klassiker: `if`, `else`\n",
    "\n",
    "- Syntax:\n",
    "\n",
    "```C++\n",
    "if ( bedingung ){\n",
    "    positive_anweisungen();\n",
    "}else{\n",
    "    negative_anweisungen();\n",
    "}\n",
    "```\n",
    "\n",
    "- `else` optional\n",
    "- Blockklammern optional, aber Achtung:\n",
    "\n",
    "```C++\n",
    "if ( 1 == 2 )\n",
    "    std::cout << \"That's unpossible!\";\n",
    "    std::cout << \"All of math is WRONG!\";\n",
    "```\n",
    "\n",
    "**Praxistipp:** Immer Blockklammern verwenden!"
   ]
  },
  {
   "cell_type": "markdown",
   "metadata": {
    "slideshow": {
     "slide_type": "subslide"
    }
   },
   "source": [
    "#### Verschiedenes: `switch`\n",
    "```C++\n",
    "int type = 2;\n",
    "switch(type) {\n",
    "    case 1: std::cout << \"FA-File\"; \n",
    "            break;\n",
    "    case 2: std::cout << \"Grib-File\";\n",
    "            break;\n",
    "    case 3: std::cout << \"ODB-File\";\n",
    "            break;\n",
    "}\n",
    "```\n",
    "**Praxistipp**: Komplizierte `switch` Anweisungen sollte man eher vermeiden (oder überhaupt alle). Verwende stattdessen z.B. eine `map` oder `unordered_map`:\n",
    "\n",
    "```C++\n",
    "#include <unordered_map>\n",
    "...\n",
    "auto file_types = std::unordered_map<int, std::string>{{1, \"FA-File\"},{2, \"Grib-File\"},{3, \"ODB-File\"}};\n",
    "auto type = 2;\n",
    "std::cout << file_types[type];\n",
    "```\n",
    "\n"
   ]
  },
  {
   "cell_type": "markdown",
   "metadata": {
    "slideshow": {
     "slide_type": "slide"
    }
   },
   "source": [
    "##Container\n",
    "Die C++ Standardbibliothek enthält viele generische Containertypen mit jeweils anderen Eigenschaften.\n",
    "Leider gibt es standardmäßig keine reellwertigen Vektoren die arithmetische Operationen unterstützen. Dafür greifen wir am besten auf eine der vielen freien Bibliotheken zurück. (z.B. Eigen!)\n",
    "\n",
    "- Sequence containers:\n",
    "    - `array`: Array class (class template )\n",
    "    - `vector`: Vector (class template )\n",
    "    - `deque`: Double ended queue (class template )\n",
    "    - `forward_list`. Forward list (class template )\n",
    "    - `list`: List (class template )\n",
    "\n",
    "- Container adaptors:\n",
    "    - `stack`: LIFO stack (class template )\n",
    "    - `queue`: FIFO queue (class template )\n",
    "    - `priority_queue`: Priority queue (class template )"
   ]
  },
  {
   "cell_type": "markdown",
   "metadata": {
    "slideshow": {
     "slide_type": "subslide"
    }
   },
   "source": [
    "- Associative containers:\n",
    "    - `set`: Set (class template )\n",
    "    - `multiset`: Multiple-key set (class template )\n",
    "    - `map`: Map (class template )\n",
    "    - `multimap`: Multiple-key map (class template )\n",
    "\n",
    "- Unordered associative containers:\n",
    "    - `unordered_set`: Unordered Set (class template )\n",
    "    - `unordered_multiset`: Unordered Multiset (class template )\n",
    "    - `unordered_map`: Unordered Map (class template )\n",
    "    - `unordered_multimap`: Unordered Multimap (class template )\n",
    "    \n",
    "**Praxistipp:** Mit aller Wahrscheinlichkeit sind für uns am wichtigsten: `vector`, `map`, `unordered_map`, `set` & `unordered_set`"
   ]
  },
  {
   "cell_type": "markdown",
   "metadata": {},
   "source": [
    "```C++\n",
    "auto v = vector<int>{1, 2, 3, 4};\n",
    "```"
   ]
  },
  {
   "cell_type": "markdown",
   "metadata": {
    "slideshow": {
     "slide_type": "slide"
    }
   },
   "source": [
    "## Schleifen:\n",
    "### Die Klassiker:\n",
    "#### Zählschleife:\n",
    "```C++\n",
    "auto max = 10;\n",
    "for(auto i = 0; i<max; ++i){\n",
    "    std::cout << \"Wert von i ist: \" << i << std::endl;\n",
    "}\n",
    "```\n",
    "#### Bedingungsschleife:\n",
    "```C++\n",
    "while (condition_holds){\n",
    "    do_something();\n",
    "}\n",
    "```"
   ]
  },
  {
   "cell_type": "markdown",
   "metadata": {
    "slideshow": {
     "slide_type": "subslide"
    }
   },
   "source": [
    "### Schleifen um Container zu ändern:\n",
    "\n",
    "####Eintragsweise per auto-Referenz einfangen. \"Range-based for-loop\"\n",
    "\n",
    "```C++\n",
    "auto v = std::vector<double>{1.2, 3.4, 5.6, 7.6};\n",
    "for (auto& e: v){\n",
    "    e = e*e;\n",
    "}\n",
    "```"
   ]
  },
  {
   "cell_type": "markdown",
   "metadata": {
    "slideshow": {
     "slide_type": "subslide"
    }
   },
   "source": [
    "####Oder `transform` und Funktion benützen:\n",
    "\n",
    "```C++\n",
    "auto v = std::vector<double>{1.2, 3.4, 5.6, 7.6};\n",
    "double square(double x){\n",
    "    return x*x;\n",
    "}\n",
    "std::transform(begin(v), end(v), begin(v), square);\n",
    "```"
   ]
  },
  {
   "cell_type": "markdown",
   "metadata": {
    "slideshow": {
     "slide_type": "subslide"
    }
   },
   "source": [
    "####Oder `transform` und lambda\n",
    "Ein lambda ist eine Funktion ohne Namen, die man mittels `[](Parametertyp p1,...){...};` erstellt.\n",
    "Analog zur Funktion `square` von oben kann man auch schreiben:\n",
    "```C++\n",
    "auto v = std::vector<double>{1.2, 3.4, 5.6, 7.6};\n",
    "std::transform(begin(v), end(v), begin(v), [](double x){return x*x;});\n",
    "```"
   ]
  },
  {
   "cell_type": "markdown",
   "metadata": {
    "slideshow": {
     "slide_type": "subslide"
    }
   },
   "source": [
    "### So sollten Schleifen NICHT mehr aussehen\n",
    "Folgender Code sollte umgestellt werden. Er ist\n",
    "- länger und deshalb hat er mehr Fehlerpotenzial\n",
    "- in manchen Fällen ineffizienter\n",
    "- unsicherer\n"
   ]
  },
  {
   "cell_type": "markdown",
   "metadata": {
    "slideshow": {
     "slide_type": "subslide"
    }
   },
   "source": [
    "#### Eher veraltet: Mittels iterator (bevor die range-based for-loop in C++11 eingeführt wurde)\n",
    "```C++\n",
    "std::vector<double> v {1.2, 3.4, 5.6, 7.6};\n",
    "for (std::vector<int>::iterator it = myvector.begin(); it != myvector.end(); ++it){\n",
    "    *it = (*it)*(*it);\n",
    "}\n",
    "```\n",
    "Viel zu viel Schreibarbeit!\n",
    "\n",
    "#### NICHT empfehlenswert: Zählschleife wie in C\n",
    "```C++\n",
    "std::vector<double> v {1.2, 3.4, 5.6, 7.6};\n",
    "for (unsigned int i = 0; i < v.size(); ++i){\n",
    "    v[i] = v[i]*v[i]; \n",
    "}\n",
    "```\n",
    "Was ist wenn der Vektor größer ist als der größte `unsigned int`? $\\to$ Probleme."
   ]
  },
  {
   "cell_type": "markdown",
   "metadata": {
    "slideshow": {
     "slide_type": "subslide"
    }
   },
   "source": [
    "### Schleifen um Container nicht zu ändern:\n",
    "\n",
    "#### Range-based-for mit `const`\n",
    "```C++\n",
    "auto v = std::vector<double>{1.2, 3.4, 5.6, 7.6};\n",
    "for (const auto& e: v){\n",
    "    std::cout << e;\n",
    "}\n",
    "```"
   ]
  },
  {
   "cell_type": "markdown",
   "metadata": {
    "slideshow": {
     "slide_type": "subslide"
    }
   },
   "source": [
    "### Eine Alternative zur ersten Zählschleife - Für jeden Eintrag eine Funktion ausführen:\n",
    "Die Standardbibliothek enthält auch eine Funktion `for_each`, (siehe: http://www.cplusplus.com/reference/algorithm/ ) Diese kann für jedes Element eine Funktion ausführen.\n",
    "```C++\n",
    "auto v = std::vector<int>(10); // Create vector of length 10\n",
    "std::iota(begin(v), end(v), 0); // Fill v with values from 0 to 9\n",
    "void print_value(int i){ // Define function that prints a message\n",
    "    std::cout << \"Der Wert von i ist\" << i << std::endl;\n",
    "}\n",
    "std::for_each(begin(v), end(v), print_value); // Execute function for each value in v\n",
    "```"
   ]
  },
  {
   "cell_type": "markdown",
   "metadata": {
    "slideshow": {
     "slide_type": "subslide"
    }
   },
   "source": [
    "### Funktionen"
   ]
  },
  {
   "cell_type": "markdown",
   "metadata": {
    "slideshow": {
     "slide_type": "slide"
    }
   },
   "source": [
    "### <a href=\"http://cpp.sh/8jbk\">Standardgrüße zerlegt</a>\n",
    "```C++\n",
    "#include <iostream>\n",
    "// This is a comment\n",
    "int main(int argc, char *argv[]){\n",
    "    auto emphasis = 0;\n",
    "    while (emphasis <= 0){\n",
    "       std::cout << \"Please enter your \"\n",
    "                    \"level of excitement (int>0)\"\n",
    "                 << std::endl\n",
    "                 << \"excitement = \";\n",
    "       std::cin >> emphasis;\n",
    "    }\n",
    "    std::cout << \"Hello World\";\n",
    "    for (auto i=0; i<emphasis; ++i){\n",
    "        std::cout << \"!\";\n",
    "    }\n",
    "    std::cout << std::endl;\n",
    "    return 0;\n",
    "}\n",
    "```"
   ]
  },
  {
   "cell_type": "markdown",
   "metadata": {
    "slideshow": {
     "slide_type": "subslide"
    }
   },
   "source": [
    "###Erster Inhalt:\n",
    "- Präprozessor-Direktive `#include`\n",
    "- Kommentare\n",
    "- `main`-Funktion\n",
    "- Array von C-Style Strings: `char* argv[]`\n",
    "- Variablen erstellen\n",
    "- `for`, `while`\n",
    "- Namespace-Resolution-Operator `::`\n",
    "- Standard Input `cin`\n",
    "- Standard Output `cout`"
   ]
  },
  {
   "cell_type": "markdown",
   "metadata": {
    "slideshow": {
     "slide_type": "slide"
    }
   },
   "source": [
    "###Präprozessor-Direktiven\n",
    "- Beginnen mit \"`#`\"\n",
    "- Beispiele:\n",
    "    - `#include`: Bindet Datei ein\n",
    "    - `#pragma ...` : Compiler specific\n",
    "        - `#pragma omp parallel for`: OpenMP Parallelisierung\n",
    "    - `#define`: Für Definition von Macros (*\"Wenn möglich vermeiden\"*)\n"
   ]
  },
  {
   "cell_type": "markdown",
   "metadata": {
    "slideshow": {
     "slide_type": "slide"
    }
   },
   "source": [
    "### Kompilieren und Aufteilung in .hpp und .cpp Files\n",
    "<center>\n",
    "![Kompilierprozess](https://upload.wikimedia.org/wikipedia/commons/thumb/c/c9/C%2B%2B_compilation_process.svg/354px-C%2B%2B_compilation_process.svg.png)\n",
    "</center>"
   ]
  },
  {
   "cell_type": "markdown",
   "metadata": {
    "slideshow": {
     "slide_type": "subslide"
    }
   },
   "source": [
    "Für kleine Spielereien kann man auf `.hpp` Files verzichten und den gesamten Code in eine Datei geben.\n",
    "\n",
    "**Praxistipp für ernsthafte Projekte:**\n",
    "\n",
    "- Code nach Zusammengehörigkeit in Dateien sortieren. Beispiel: Eine .cpp Datei pro Klasse.\n",
    "- Für jede .cpp Datei eine .hpp Datei gleichen Namens mit zugehörigen Deklarationen.\n",
    "- Das .cpp File soll mit `#include \"DATEINAME.hpp\"` beginnen\n",
    "- Wenn in einer Datei eine Variable/Funktion/Klasse aus \"A.cpp\" verwendet wird, dann muss sie mit `#include \"A.hpp\"` beginnen"
   ]
  },
  {
   "cell_type": "markdown",
   "metadata": {
    "slideshow": {
     "slide_type": "slide"
    }
   },
   "source": [
    "### Stack&Heap"
   ]
  },
  {
   "cell_type": "markdown",
   "metadata": {
    "slideshow": {
     "slide_type": "subslide"
    }
   },
   "source": [
    "### Stack\n",
    "- Stored in computer RAM just like the heap.\n",
    "- Variables created on the stack will go out of scope and automatically deallocate.\n",
    "- Much faster to allocate in comparison to variables on the heap.\n",
    "- Implemented with an actual stack data structure.\n",
    "- Stores local data, return addresses, used for parameter passing\n",
    "- Can have a stack overflow when too much of the stack is used. (mostly from infinite (or too much) recursion, very large allocations)\n",
    "- Data created on the stack can be used without pointers.\n",
    "- You would use the stack if you know exactly how much data you need to allocate before compile time and it is not too big.\n",
    "- Usually has a maximum size already determined when your program starts"
   ]
  },
  {
   "cell_type": "markdown",
   "metadata": {
    "slideshow": {
     "slide_type": "subslide"
    }
   },
   "source": [
    "### Heap\n",
    "- Stored in computer RAM just like the stack.\n",
    "- Variables on the heap must be destroyed manually and never fall out of scope. The data is freed with `delete`, `delete[]` or `free`\n",
    "- Slower to allocate in comparison to variables on the stack.\n",
    "- Used on demand to allocate a block of data for use by the program.\n",
    "- Can have fragmentation when there are a lot of allocations and deallocations\n",
    "- In C++ data created on the heap will be pointed to by pointers and allocated with new or malloc\n",
    "- Can have allocation failures if too big of a buffer is requested to be allocated.\n",
    "- You would use the heap if you don't know exactly how much data you will need at runtime or if you need to allocate a lot of data.\n",
    "- Responsible for memory leaks"
   ]
  },
  {
   "cell_type": "markdown",
   "metadata": {
    "slideshow": {
     "slide_type": "subslide"
    }
   },
   "source": [
    "##Pointer:\n",
    "\n",
    "Eine Variable die eine Memory-Adresse speichert:\n",
    "<center>\n",
    "<img src=\"https://upload.wikimedia.org/wikipedia/commons/b/b4/Pointers.svg\" width=\"50%\"\\></center>"
   ]
  },
  {
   "cell_type": "markdown",
   "metadata": {
    "slideshow": {
     "slide_type": "subslide"
    }
   },
   "source": [
    "- Deklaration mittels\n",
    "\n",
    "```C++\n",
    "Typ* name_des_pointers = adresse;\n",
    "```\n",
    "- Adresse einer Variable mittels `&`-Operator.\n",
    "- Wert an einer Adresse mittels `*`-Operator. (*\"Dereferenzieren\"*)\n",
    "\n",
    "Beispiel:\n",
    "\n",
    "```C++\n",
    "using namespace std;\n",
    "int number_of_measurements = 123456;\n",
    "int* ptr_a = &number_of_measurements;\n",
    "  \n",
    "cout << \"Wert von ptr_a\" << ptr_a << endl;\n",
    "cout << \"Wert von *ptr_a\" << *ptr_a << endl;\n",
    "\n",
    "cout << \"Wert von a\" << a << endl;\n",
    "cout << \"Wert von &a\" << &a << endl;\n",
    "  \n",
    "*ptr_a = 7;\n",
    "  \n",
    "cout << \"Wert von a\" << a << endl;\n",
    "```"
   ]
  },
  {
   "cell_type": "markdown",
   "metadata": {
    "slideshow": {
     "slide_type": "subslide"
    }
   },
   "source": [
    "Eine Funktion die eine neue Variable am heap erstellt und händisch gelöscht werden muss.\n",
    "```C++\n",
    "int* create_int_on_heap(){\n",
    "    return new int{-123};\n",
    "}\n",
    "int* int_ptr = create_int_on_heap();\n",
    "*int_ptr = -122;\n",
    "... // Some computation\n",
    "delete int_ptr;\n",
    "```\n",
    "Warum nicht braucht man `new` überhaupt?\n",
    "```C++\n",
    "int* create_int_on_stack(){\n",
    "    int i = 123;\n",
    "    return &i; // FAULTY CODE!!!\n",
    "               // This will silently\n",
    "               // break everything. :-(\n",
    "}\n",
    "```\n",
    "<span style=\"color:red\">Deshalb:</span> An der Adresse die von `create_int_on_stack` zurückgegeben wird existiert nach Ende der Funktion nichts mehr! Wenn anschließend darauf zugegriffen wird kann nichts Gutes mehr passieren!"
   ]
  },
  {
   "cell_type": "markdown",
   "metadata": {
    "slideshow": {
     "slide_type": "subslide"
    }
   },
   "source": [
    "- Zweck:\n",
    "  - Hardwarenahes Konzept das vom Stack/Heap Prinzip kommt.\n",
    "  - In C(und damit auch C++) werden Funktionsargumente kopiert bevor die Funktion aufgerufen wird. Mit Pointern kann man das Kopieren großer Datenmengen verhindern.\n",
    "- Verwende `nullptr` für Zeiger die auf nichts zeigen sollen. (veraltet: NULL)\n",
    "\n",
    "- *\"Wenn möglich, vermeiden.\"* (Wer gerne Sterne sieht soll sich ein Teleskop kaufen)\n",
    "- Alternativen:\n",
    "  - Referenzen\n",
    "  - Smart pointer: `unique_ptr`, `shared_ptr`, `weak_ptr`"
   ]
  },
  {
   "cell_type": "markdown",
   "metadata": {
    "slideshow": {
     "slide_type": "subslide"
    }
   },
   "source": [
    "```C++\n",
    "#include <iostream>\n",
    "\n",
    "int main() {\n",
    "\tint* ip = new int{-123};\n",
    "\t\n",
    "\tstd::cout << \"Accessing the pointer ip: (\"<< ip << \") - Value=\" << *ip << std::endl;\n",
    "\tstd::cout << \"Accessing the variable \"\n",
    "\tfor (auto i = 1; i<10000; i++){\n",
    "\t\tstd::cout << \"Accessing memory(\" << ip+i << \") - Value=\" << *(ip+i) << std::endl;\n",
    "\t}\n",
    "\tdelete ip;\n",
    "\treturn 0;\n",
    "}\n",
    "```"
   ]
  },
  {
   "cell_type": "markdown",
   "metadata": {},
   "source": [
    "### C-Style Arrays:\n",
    "####Syntax:\n",
    "- Am Stack (automatisch gelöscht.)\n",
    "```C++\n",
    "int foo[5];\n",
    "```\n",
    "- Am Heap (zum selber löschen)\n",
    "```C++\n",
    "int* foos = new int[5];\n",
    "```\n",
    "- Brauchen wir nicht mehr"
   ]
  },
  {
   "cell_type": "markdown",
   "metadata": {
    "slideshow": {
     "slide_type": "slide"
    }
   },
   "source": [
    "###C&C++: Call by value\n",
    "####Empfehlung für Parameter-Übergabe:\n",
    "- By value Kopie:\n",
    "  - Standardmäßig, wenn ausreichend schnell\n",
    "  - Funktion würde ohnehin für den Rückgabewert eine gleichartige Datenmenge generieren:\n",
    "    - `square_vector_entries`(`{0, 1, 2, 3, ...}`) $\\to$ `{0, 1, 4, 9, ...}`\n",
    "- By const Reference:\n",
    "  - Wollen große Datenmengen übergeben, aber die Daten selbst nicht ändern: \n",
    "    - `sum_of_entries(matrix)`\n",
    "    - `maximum(measurements)`"
   ]
  },
  {
   "cell_type": "markdown",
   "metadata": {
    "slideshow": {
     "slide_type": "subslide"
    }
   },
   "source": [
    "####Möglich, aber potenziell verwirrend:\n",
    "- By Reference übergeben und modifizieren.\n",
    "  - Side-effects vermeiden, verursachen \n",
    "    ```C++\n",
    "    void square(double& x){ x=x*x;}\n",
    "    double value = 3.14;\n",
    "    square(value);\n",
    "    // Nicht sofort ersichtlich, dass value geändert wird.\n",
    "    ```\n",
    "  - Viel klarer:\n",
    "    ```C++\n",
    "    double square(double x){ return x*x;}\n",
    "    double value = 3.14;\n",
    "    value = square(value);\n",
    "    // Hier wird value ganz klar geändert.\n",
    "    ```\n",
    "\n",
    "Faustregel: Funktionales Denken: Vermeide Funktionen mit Nebeneffekten. Eine Funktion liefert zu Eingabewerten einen (oder mehrere in Form eines `std::tuple`) Rückgabewert."
   ]
  },
  {
   "cell_type": "markdown",
   "metadata": {
    "slideshow": {
     "slide_type": "subslide"
    }
   },
   "source": [
    "### Mehrere Rückgabewerte:\n",
    "Achtung: Mehrere Rückgabewerte? Ganz sicher? Bedenke vorher folgende Alternativen: Sollte der Output in einen eigenen Datentyp gekapselt werden? Sollte die Funktion in mehrere Funktionen aufgeteilt werden?\n",
    "####C-Stil: \n",
    "```C++\n",
    "void get_mean_pressure_and_mean_temperature(GRIB_DATA* grib, double* pressure_pointer, double* temperature_pointer){\n",
    "    double temperature_help = 0.;\n",
    "    double pressure_help = 0.;\n",
    "    for (....){\n",
    "        ....\n",
    "    }\n",
    "    *pressure_pointer = pressure_help;\n",
    "    *temperature_pointer = temperature_help;\n",
    "}\n",
    "double press;\n",
    "double temp;\n",
    "GRIB_DATA* grib_file_from_monday = ...;\n",
    "...\n",
    "get_mean_pressure_and_mean_temperature(grib_file_from_monday, &press, &temp);\n",
    "```\n",
    "Ganz klar: Am Besten zwei verschiedene Funktionen verwenden, aber angenommen das Beispiel wäre sinnvoll:\n",
    "####C++-Stil:\n",
    "```C++\n",
    "tuple<double, double> get_mean_pressure_and_mean_temperature(const GRIB_DATA& grib){\n",
    "    int n = number_of_measurements(grib);\n",
    "    double mean_press = std::accumulate(...)/n;\n",
    "    double mean_temp = std::accumulate(...)/n;\n",
    "    return std::make_tuple(mean_press, mean_temp);\n",
    "}\n",
    "double press, temp;\n",
    "GRIB_DATA grib_file_from_monday = ...;\n",
    "std::tie(press, temp) = get_mean_pressure_and_mean_temperature(grib_file_from_monday);\n",
    "```"
   ]
  },
  {
   "cell_type": "markdown",
   "metadata": {
    "slideshow": {
     "slide_type": "slide"
    }
   },
   "source": [
    "### Objektorientiertes Programmieren\n",
    "Warum kann ich den Wasserstand bei meiner Waschmaschine nicht selbst manuell regeln? Ein Zulauf-Hahn und Ablauf-Hahn wäre doch toll!\n",
    "\n",
    "- Pro:\n",
    "    - Ich habe gern die volle Kontrolle.\n",
    "    - Kann den Wasserstand individuell perfekt auf meine Wäsche einstellen.\n",
    "    - Oma hat das doch auch so gemacht!\n",
    "- Contra:\n",
    "    - Es gibt eigentlich nur wenige sinnvolle Füllmengen.\n",
    "    - Ich sehe lieber fern.\n",
    "    - Das Telefon klingelt $\\to$ Überschwemmung\n"
   ]
  },
  {
   "cell_type": "markdown",
   "metadata": {
    "slideshow": {
     "slide_type": "subslide"
    }
   },
   "source": [
    "Der Hersteller hat sich dagegen entschieden und gibt mir nur ein paar verschiedene Knöpfe für sinnvolle Waschprogramme.\n",
    "\n",
    "Und weil das so viele Informatiker ähnlich sehen hat man **objektorientiertes Programmieren** erfunden."
   ]
  },
  {
   "cell_type": "markdown",
   "metadata": {
    "slideshow": {
     "slide_type": "subslide"
    }
   },
   "source": [
    "### Objekte\n",
    "- Objekte enthalten Daten (\"*Member Variablen*\") und Funktionen (\"*Methoden*\") die mit diesen Daten arbeiten können.\n",
    "- Verstecken Implementierungsdetails und stellen einfach zu handhabende Schnittstellen zur Verfügung.\n",
    "- Schablonen für gleichartige Objekte nennt man Klassen.\n",
    "Klassen sind Schablonen für gleichartige Objekte\n"
   ]
  },
  {
   "cell_type": "markdown",
   "metadata": {
    "slideshow": {
     "slide_type": "subslide"
    }
   },
   "source": [
    "\n",
    "**Vorteile:** \n",
    "- Bei der Erstellung des Objektes kann überprüft werden, ob die Daten überhaupt sinnvoll sind.\n",
    "- Es können nachträgliche Änderungen an den Daten verhindert werden und stattdessen ein Fehler angezeigt werden. (Man kann so zum Beispiel Programmierfehler bei Programmen finden die gar nichts ändern sollten.)\n",
    "\n",
    "Statt:\n",
    "\n",
    "```C++\n",
    "waschmaschinen_wasserstand = 1e9; \n",
    "//Hoppla, wollte eigentlich 19 schreiben\n",
    "//Ich hol schon mal einen Eimer\n",
    "```\n",
    "ist folgende Situation denkbar:\n",
    "\n",
    "```C++\n",
    "Waschmaschine.setze_wasserstand_auf(1e9); \n",
    "//AEG 9000: \"I'm afraid I can't do that Dave.\"\n",
    "``` "
   ]
  },
  {
   "cell_type": "markdown",
   "metadata": {
    "slideshow": {
     "slide_type": "subslide"
    }
   },
   "source": [
    "####Beispiele für denkbare Klassen:\n",
    "- `Measurement`:\n",
    "    - Member Variablen: `date`, `time`, `position`, `type`, `unit`, `value`\n",
    "    - \"-99 Kelvin? Da wars ja ganz schön kalt gestern.\"\n",
    "- `MeasurementSeries`:\n",
    "    - Member Variablen: `vector<std::measurement> measurements`\n",
    "    - Methoden: `mean()`, `standard_deviation()`"
   ]
  },
  {
   "cell_type": "markdown",
   "metadata": {
    "slideshow": {
     "slide_type": "subslide"
    }
   },
   "source": [
    "- `Grid`:\n",
    "    - Member Variablen: `longitudes`, `latitudes`\n",
    "    - Methoden: `is_rectangular()`, `get_corners()`, `extract_grid(Subgrid)`, `is_point_inside(Point)`\n",
    "- `Field`:\n",
    "    - Member Variablen: `Grid`, `vector<measurements>`\n",
    "    - Methoden: `-`, `+`, ... um die Differenz zweier Felder zu bilden.\n",
    "- `Field_Interpolator`:\n",
    "    - Member Variablen: Geheim.\n",
    "    - Methoden: `value_at_lon_lat()`"
   ]
  },
  {
   "cell_type": "markdown",
   "metadata": {
    "slideshow": {
     "slide_type": "subslide"
    }
   },
   "source": [
    "###Erste Klasse\n",
    "\n",
    "```C++\n",
    "class Measurement{\n",
    "    double latitude;\n",
    "    double longitude;\n",
    "    double value;\n",
    "    std::string type;\n",
    "};\n",
    "```"
   ]
  },
  {
   "cell_type": "markdown",
   "metadata": {
    "slideshow": {
     "slide_type": "subslide"
    }
   },
   "source": [
    "### Konstruktor & Destruktor\n",
    "\n",
    "- Konstruktor wird bei Erstellung eines Objektes aufgerufen. Er bringt das Objekt in einen verwendbaren Zustand.\n",
    "\n",
    "```C++\n",
    "Klassenname(Parametertyp parameter, ...) : \n",
    "member{parameter}, ... {\n",
    "    Anweisungen;\n",
    "    ...\n",
    "};\n",
    "```\n",
    "- Destruktor wird beim Löschen eines Objektes aufgerufen (Also bei normalen Variablen am Ende des Blocks.) Er führt Aufräumarbeiten durch.\n",
    "\n",
    "```C++\n",
    "~Klassenname(){...};\n",
    "```"
   ]
  },
  {
   "cell_type": "markdown",
   "metadata": {
    "slideshow": {
     "slide_type": "subslide"
    }
   },
   "source": [
    "#### Scope & Lifetime revisited\n",
    "```C++\n",
    "#include <fstream>\n",
    "#include <stdio.h>\n",
    "int main(int argc, char *argv[]){\n",
    "\n",
    "    // C Style - YUCK!\n",
    "    FILE* file;\n",
    "    file = fopen( \"example1.txt\", \"w\" );\n",
    "    fprintf(file, \"%s:%d\\n\", \"Teststring\", 1234);\n",
    "    fclose( file );\n",
    "\n",
    "    // C++ Style - Tasty!\n",
    "    std::ofstream ofs(\"example2.txt\");\n",
    "    ofs << \"Teststring: \" << 1234 << std::endl;\n",
    "}\n",
    "```\n",
    "- C: `fclose` vergessen $\\to$ Probleme (typischerweise nach vielen geöffneten Dateien)\n",
    "- C++ denkt für uns mit und räumt ungefragt auf!"
   ]
  },
  {
   "cell_type": "markdown",
   "metadata": {
    "slideshow": {
     "slide_type": "subslide"
    }
   },
   "source": [
    "```C++\n",
    "class Measurement{\n",
    "    private:\n",
    "    public:\n",
    "        double latitude;\n",
    "        double longitude;\n",
    "        std::string type;\n",
    "        double value;\n",
    "        Measurement(double latitude,\n",
    "                    double longitude,\n",
    "                    std::string type,\n",
    "                    double value) : \n",
    "            latitude{latitude},\n",
    "            longitude{longitude},\n",
    "            type{type},\n",
    "            value{value}\n",
    "            {/* Nichts mehr zu tun.*/};\n",
    "        ~Measurement(){};\n",
    "};\n",
    "```\n",
    "Den leeren Destruktor hätten wir auch weglassen können. C++ würde ihn dann selbständig generieren."
   ]
  },
  {
   "cell_type": "markdown",
   "metadata": {
    "slideshow": {
     "slide_type": "subslide"
    }
   },
   "source": [
    "Nun können Messungen erstellt werden mittels:\n",
    "\n",
    "```C++\n",
    "auto m1 = Measurement{48., 16.,\n",
    "                      \"Temperature\"s, 280.};\n",
    "```"
   ]
  },
  {
   "cell_type": "markdown",
   "metadata": {
    "slideshow": {
     "slide_type": "subslide"
    }
   },
   "source": [
    "### public & private\n",
    "- Auf `public` Member dürfen alle zugreifen (Im Beispiel: Programmwahl der Waschmaschine)\n",
    "- Auf `private` Member darf nur die Klasse selbst zugreifen (Im Beispiel: Drehzahlregelungs-Chip der Waschmaschine)"
   ]
  },
  {
   "cell_type": "markdown",
   "metadata": {},
   "source": [
    "http://cpp.sh/5pdy\n",
    "\n",
    "```C++\n",
    "// Example program\n",
    "#include <iostream>\n",
    "#include <string>\n",
    "#include <vector>\n",
    "#include <algorithm>\n",
    "\n",
    "class Measurement{\n",
    "public:\n",
    "    double latitude;\n",
    "    double longitude;\n",
    "    double value;\n",
    "    std::string type;\n",
    "    Measurement(double latitude, double longitude, double value, std::string type) : \n",
    "        latitude{latitude}, longitude{longitude}, value{value}, type{type}\n",
    "        {\n",
    "            // Hier könnten noch andere Dinge passieren    \n",
    "        };\n",
    "    ~Measurement(){};\n",
    "    bool operator==(const Measurement& rhs) const {\n",
    "        std::cout << latitude << \" \" << rhs.latitude << std::endl\n",
    "                  << longitude << \" \" << rhs.longitude << std::endl\n",
    "                  << value << \" \" << rhs.value << std::endl\n",
    "                  << type << \" \" << rhs.type << std::endl;\n",
    "        auto is_equal= (latitude==rhs.latitude)&&\n",
    "                       (longitude==rhs.longitude)&&\n",
    "                       (value==rhs.value)&&\n",
    "                       (type==rhs.type);\n",
    "        std::cout << std::boolalpha << is_equal << std::endl;\n",
    "        return is_equal;}\n",
    "};\n",
    "\n",
    "\n",
    "int main()\n",
    "{\n",
    "    using namespace std::string_literals;\n",
    "    auto m1 = Measurement{3.12, 41.2, 123., \"Temperature\"s};\n",
    "    auto m2 = m1;\n",
    "    //std::cout << std::boolalpha << (m1==m2) << std::endl;\n",
    "    m2.latitude = 3;\n",
    "    //std::cout << std::boolalpha << (m1==m2) << std::endl;\n",
    "\n",
    "    auto measurements = std::vector<Measurement> {m1, m2, m1, m2, m1};\n",
    "    std::sort(begin(measurements), end(measurements), [](auto a, auto b){ return a.latitude < b.latitude;});\n",
    "    measurements.erase( std::unique( measurements.begin(), measurements.end() ), measurements.end() );\n",
    "    for (auto& m : measurements){\n",
    "        std::cout << m.latitude << \" \" << m.longitude << \" \" << m.value << std::endl;\n",
    "        m = m1;\n",
    "    }\n",
    "    //auto m3;\n",
    "}\n",
    "```"
   ]
  },
  {
   "cell_type": "markdown",
   "metadata": {},
   "source": [
    "### `enum` class"
   ]
  },
  {
   "cell_type": "markdown",
   "metadata": {
    "slideshow": {
     "slide_type": "slide"
    }
   },
   "source": [
    "1) Nein\n",
    "2) Fortran & Python\n",
    "3) Einlesen großer Datenmengen, Verwenden von Funktionen bzw. Subroutinen\n",
    "4) Ja, von Python\n",
    "5) Ja, das hat mir zu Bewusstsein gebracht, dass C-Kenntnisse praktisch wären....\n",
    "6) Siehe 3)\n",
    "7) \"Kann damit umgehen\"; class, Array, iterator: \n",
    " \" Habe davon gehört\";Pointer, Kon/-Destruktor, Vererbung, lambda: \n",
    " \"Sagt mir nichts\": rest\n",
    "\n",
    "\n",
    "- Hast Du bereits mit C++ gearbeitet?\n",
    "Ja.\n",
    "- Welche Programmiersprachen verwendest Du üblicherweise?\n",
    "Fortran.\n",
    "- Welche Probleme würdest du gerne lösen? Welche Bibliotheken verwenden?\n",
    "Alles was relevant für meine Arbeit ist. Hauptsächlich INCA Codes. \n",
    "- Kennst du Konzepte der objektorientierten Programmierung?\n",
    "Ja.\n",
    "- Ist Dir fremder C++ Code untergekommen, den du bearbeiten wolltest? Wenn ja, gibt es Stellen die dir unklar sind/welche Probleme hattest Du?\n",
    "Konnte Codes mit denen ich bisher gearbeitet habe (INCA) einigermaßen lesen und schrittweise bearbeiten. Kompilieren war teilweise Problem. \n",
    "- Gibt es einen Themenbereich den Du gerne behandelt hättest? Wenn ja welchen?\n",
    "Würde gerne mit Basics anfangen.\n",
    "- Bitte unterteile die folgende Liste von buzzwords in drei Listen: \"Kann damit umgehen\"; \"Habe davon gehört\"; \"Sagt mir nichts\"\n",
    " \n",
    "kann damit umgehen\n",
    "Pointer\n",
    "Array\n",
    "struct\n",
    "class\n",
    " \n",
    "habe davon gehört\n",
    "smart-pointer\n",
    "std::vector\n",
    "type-Casting\n",
    "Funktionen überladen\n",
    "Kon-/Destruktor\n",
    "pass-by-value/pass-by-reference\n",
    " \n",
    "sagt mir nichts\n",
    "scope/lifetime\n",
    "const-Correctness\n",
    "lambda\n",
    "RAII\n",
    "Vererbung\n",
    "Iterator\n",
    "Auto\n",
    "Referenz\n",
    "Template\n",
    "\n",
    "###########\n",
    "\n",
    "- Hast Du bereits mit C++ gearbeitet?\n",
    "Ja, d.h. ein C++ Programm bekommen und musste es ändern. In der Zwischenzeit habe ich C gelernt.\n",
    "\n",
    "- Welche Programmiersprachen verwendest Du üblicherweise?\n",
    "Python, Fortran, C. Aber mit C weiß ich, dass ich es nicht völlig ausnutze – praktische Bespiele mit Pointers, classes, struct werden für mich hilfreich.\n",
    "\n",
    "- Welche Probleme würdest du gerne lösen? Welche Bibliotheken verwenden?\n",
    "- Kennst du Konzepte der objektorientierten Programmierung?\n",
    "Nicht wirklich\n",
    "\n",
    "- Ist Dir fremder C++ Code untergekommen, den du bearbeiten wolltest? Wenn ja, gibt es Stellen die dir unklar sind/welche Probleme hattest Du?\n",
    "Ja, Pointers, classes, struct\n",
    "Die Theorie hinter solche Dinge habe ich oft gelesen, und ich glaube für mich wird viele Beispiele mehr helfen.\n",
    "\n",
    "- Gibt es einen Themenbereich den Du gerne behandelt hättest? Wenn ja welchen?\n",
    "- Bitte unterteile die folgende Liste von buzzwords in drei Listen: \"Kann damit umgehen\"; \"Habe davon gehört\"; \"Sagt mir nichts\"\n",
    "Pointer, smart-pointer, Array, std::vector, scope/lifetime, pass-by-value/pass-by-reference, type-Casting, Funktionen überladen, struct, const-Correctness, class, Kon-/Destruktor, Vererbung, Iterator, auto, Referenz, Template, lambda, RAII,\n",
    " \n",
    "Pointer – kann damit umgehen aber verstehen tue ich es nicht ganz\n",
    "Smart-pointer – sagt mir nichts\n",
    "Array – kann damit umgehen\n",
    "Std::vector – habe davon gehört\n",
    "Scope/lifetime – kann damit umgehen\n",
    "Pass-by-value/pass-by-reference – kann damit umgehen\n",
    "Type-Casting – habe davon gehört\n",
    "Funktionen überladen – habe davon gehört\n",
    "Struct – kann damit umgehen aber verstehen tue ich es nicht ganz\n",
    "Const-Correctness – sagt mir nichts\n",
    "Class – habe davon gehört\n",
    "Kon-/Destruktor – habe davon gehört\n",
    "Vererbung – sagt mir nichts\n",
    "Iterator – habe davon gehört\n",
    "Auto – sagt mir nichts\n",
    "Referenz – sagt mir nichts\n",
    "Template – sagt mir nichts\n",
    "Lambda – habe davon gehört\n",
    "RAII – sagt mir nichts.\n",
    " \n",
    "Viele Grüße\n",
    "Robert\n",
    "\n",
    "###########\n",
    "\n",
    "\n",
    "- Hast Du bereits mit C++ gearbeitet?\n",
    "Bislang nur bereits bestehende Programme adaptiert\n",
    "\n",
    "- Welche Programmiersprachen verwendest Du üblicherweise?\n",
    "Fortran\n",
    "\n",
    "- Welche Probleme würdest du gerne lösen? Welche Bibliotheken verwenden?\n",
    "Im Moment keine akuten Probleme. Die meisten Programme die ich schreibe sind nach dem Schema: Felder aus Gribfile lesen -> Felder bearbeiten -> Output in diverse Formate wie Grib, NetCDF, Ascii...\n",
    "\n",
    "- Kennst du Konzepte der objektorientierten Programmierung?\n",
    "Nein\n",
    "\n",
    "- Ist Dir fremder C++ Code untergekommen, den du bearbeiten wolltest? Wenn ja, gibt es Stellen die dir unklar sind/welche Probleme hattest Du?\n",
    "Ja, allerdings nur recht kurze. Probleme hatte ich bei der Definition von mehrdimensionalen Arrays.\n",
    "\n",
    "- Gibt es einen Themenbereich den Du gerne behandelt hättest? Wenn ja welchen?\n",
    "- Bitte unterteile die folgende Liste von buzzwords in drei Listen: \"Kann damit umgehen\"; \"Habe davon gehört\"; \"Sagt mir nichts\"\n",
    "Pointer, smart-pointer, Array, std::vector, scope/lifetime, pass-by-value/pass-by-reference, type-Casting, Funktionen überladen, struct, const-Correctness, class, Kon-/Destruktor, Vererbung, Iterator, auto, Referenz, Template, lambda, RAII,\n",
    "\n",
    "Kann damit umgehen: -Array, Iterator\n",
    "Schon davon gehört: - Pointer, Funktionen überladen, struct, class, Kon-/Destruktor, Template, lambda\n",
    "Vom Rest habe ich noch nichts gehört...\n",
    "\n",
    "Lg,\n",
    "Florian\n",
    "\n",
    "########\n",
    " \n",
    "- Hast Du bereits mit C++ gearbeitet?\n",
    "Hab das Buch „Grundkurs C++“ von Jürgen Wolf begonnen durchzuarbeiten, aufgrund akuten Zeitmangels und fehlender Anwendungs-Möglichkeiten dann aber wieder liegen lassen.\n",
    "- Welche Programmiersprachen verwendest Du üblicherweise?\n",
    "Fortran90, C, etwas PHP und (bisher) noch weniger Python\n",
    "- Welche Probleme würdest du gerne lösen? Welche Bibliotheken verwenden?\n",
    "Schwer zu sagen. Eigentlich egal welches Problem, Hauptsache elegant (sprich: modular)\n",
    "- Kennst du Konzepte der objektorientierten Programmierung?\n",
    "jein\n",
    "- Ist Dir fremder C++ Code untergekommen, den du bearbeiten wolltest? Wenn ja, gibt es Stellen die dir unklar sind/welche Probleme hattest Du?\n",
    "nein\n",
    "- Gibt es einen Themenbereich den Du gerne behandelt hättest? Wenn ja welchen?\n",
    "Fällt mir ad hoc kein besonderer ein\n",
    "- Bitte unterteile die folgende Liste von buzzwords in drei Listen: \"Kann damit umgehen\"; \"Habe davon gehört\"; \"Sagt mir nichts\"\n",
    "Kann damit umgehen: Pointer, Array, scope/lifetime, pass-by-value/pass-by-reference, type casting\n",
    "Habe davon gehört (oder bilde es mir zumindest erfolgreich ein): Funktionen überladen, struct, class, Vererbung, Iterator\n",
    "Sagt mir nix (jedenfalls nicht als zusammenhangloses Schlagwort): smart-pointer, std::vector, const correctness, Konstruktor/Destruktor, Referenz, auto, Template, lambda, RAII\n",
    " \n",
    "Danke + lG\n",
    "Martin\n",
    "\n",
    "#############\n",
    "\n",
    "Zu deine Fragen:\n",
    "- Hast Du bereits mit C++ gearbeitet?\n",
    "Ja\n",
    "- Welche Programmiersprachen verwendest Du üblicherweise?\n",
    "Fortran, R\n",
    "- Welche Probleme würdest du gerne lösen? Welche Bibliotheken verwenden?\n",
    "Kein aktuelles Problem\n",
    "- Kennst du Konzepte der objektorientierten Programmierung?\n",
    "Ja, allgemein.\n",
    "- Ist Dir fremder C++ Code untergekommen, den du bearbeiten wolltest? Wenn ja, gibt es Stellen die dir unklar sind/welche Probleme hattest Du?\n",
    "Ja, aber hatte keine große Probleme.\n",
    "- Gibt es einen Themenbereich den Du gerne behandelt hättest? Wenn ja welchen?\n",
    "Kein bestimmter Themenbereich. Eine verständliche Übersicht.\n",
    "- Bitte unterteile die folgende Liste von buzzwords in drei Listen: \"Kann damit umgehen\"; \"Habe davon gehört\"; \"Sagt mir nichts\"\n",
    "Pointer, smart-pointer, Array, std::vector, scope/lifetime, pass-by-value/pass-by-reference, type-Casting, Funktionen überladen, struct, const-Correctness, class, Kon-/Destruktor, Vererbung, Iterator, auto, Referenz, Template, lambda, RAII,\n",
    "\n",
    "Kann damit umgehen: Pointer, Array, std::vector, class\n",
    "Ansonsten: \"Habe davon gehört\" und \"Sagt mir nichts\".\n",
    " \n",
    "Liebe Grüße,\n",
    "Maja\n",
    "\n",
    "\n",
    "###############\n",
    "\n",
    "\n",
    "- Hast Du bereits mit C++ gearbeitet? à Nein\n",
    "- Welche Programmiersprachen verwendest Du üblicherweise? à Fortran, NCL, gnuplot, shell, ein bisschen C, perl, python, awk, sed,..\n",
    "- Welche Probleme würdest du gerne lösen? Welche Bibliotheken verwenden? à Keine spezifischen, alles was für Seamless und andere Projekte gebraucht wird\n",
    "- Kennst du Konzepte der objektorientierten Programmierung? à Ja\n",
    "- Ist Dir fremder C++ Code untergekommen, den du bearbeiten wolltest? Wenn ja, gibt es Stellen die dir unklar sind/welche Probleme hattest Du? à Nein\n",
    "- Gibt es einen Themenbereich den Du gerne behandelt hättest? Wenn ja welchen? à keinen spezifischen\n",
    "- Bitte unterteile die folgende Liste von buzzwords in drei Listen:\n",
    " \n",
    "\"Kann damit umgehen\": Array, std::vector\n",
    " \n",
    "\"Habe davon gehört\": Pointer, smart-pointer struct, class, Template, lambda, Referenz\n",
    " \n",
    "\"Sagt mir nichts\": scope/lifetime, pass-by-value/pass-by-reference, type-Casting, Funktionen überladen, const-Correctness, Kon-/Destruktor, Vererbung, Iterator, auto, RAII,\n",
    "\n",
    "Lg irene\n",
    "\n",
    "\n",
    "\n",
    "##############\n",
    "\n",
    "\n",
    "\n"
   ]
  },
  {
   "cell_type": "markdown",
   "metadata": {
    "slideshow": {
     "slide_type": "slide"
    }
   },
   "source": [
    "### General Code Smells\n",
    "####Comments\n",
    "There's a fine line between comments that illuminate and comments that obscure. Are the comments necessary? Do they explain \"why\" and not \"what\"? Can you refactor the code so the comments aren't required? And remember, you're writing comments for people, not machines.\n",
    "####Long Method\n",
    "All other things being equal, a shorter method is easier to read, easier to understand, and easier to troubleshoot. Refactor long methods into smaller methods if you can.\n",
    "####Long Parameter List\n",
    "The more parameters a method has, the more complex it is. Limit the number of parameters you need in a given method, or use an object to combine the parameters.\n",
    "####Duplicated code\n",
    "Duplicated code is the bane of software development. Stamp out duplication whenever possible. You should always be on the lookout for more subtle cases of near-duplication, too. Don't Repeat Yourself!\n",
    "####Conditional Complexity\n",
    "Watch out for large conditional logic blocks, particularly blocks that tend to grow larger or change significantly over time. Consider alternative object-oriented approaches such as decorator, strategy, or state.\n",
    "####Combinitorial Explosion\n",
    "You have lots of code that does almost the same thing.. but with tiny variations in data or behavior. This can be difficult to refactor-- perhaps using generics or an interpreter?\n",
    "####Large Class\n",
    "Large classes, like long methods, are difficult to read, understand, and troubleshoot. Does the class contain too many responsibilities? Can the large class be restructured or broken into smaller classes?\n",
    "####Type Embedded in Name\n",
    "Avoid placing types in method names; it's not only redundant, but it forces you to change the name if the type changes.\n",
    "####Uncommunicative Name\n",
    "Does the name of the method succinctly describe what that method does? Could you read the method's name to another developer and have them explain to you what it does? If not, rename it or rewrite it.\n",
    "Inconsistent Names \tPick a set of standard terminology and stick to it throughout your methods. For example, if you have Open(), you should probably have Close().\n",
    "####Dead Code\n",
    "Ruthlessly delete code that isn't being used. That's why we have source control systems!\n",
    "Speculative Generality \tWrite code to solve today's problems, and worry about tomorrow's problems when they actually materialize. Everyone loses in the \"what if..\" school of design. You (Probably) Aren't Gonna Need It.\n",
    "####Oddball Solution\n",
    "There should only be one way of solving the same problem in your code. If you find an oddball solution, it could be a case of poorly duplicated code-- or it could be an argument for the adapter model, if you really need multiple solutions to the same problem.\n",
    "####Temporary Field\n",
    "Watch out for objects that contain a lot of optional or unnecessary fields. If you're passing an object as a parameter to a method, make sure that you're using all of it and not cherry-picking single fields.\n",
    "Code Smells Between Classes"
   ]
  },
  {
   "cell_type": "markdown",
   "metadata": {
    "slideshow": {
     "slide_type": "slide"
    }
   },
   "source": [
    "### OOP Code Smells\n",
    "####Alternative Classes with Different Interfaces\n",
    "If two classes are similar on the inside, but different on the outside, perhaps they can be modified to share a common interface.\n",
    "####Primitive Obsession\n",
    "Don't use a gaggle of primitive data type variables as a poor man's substitute for a class. If your data type is sufficiently complex, write a class to represent it. \n",
    "####Data Class\n",
    "Avoid classes that passively store data. Classes should contain data and methods to operate on that data, too.\n",
    "####Data Clumps\n",
    "If you always see the same data hanging around together, maybe it belongs together. Consider rolling the related data up into a larger class.\n",
    "####Refused Bequest\n",
    "If you inherit from a class, but never use any of the inherited functionality, should you really be using inheritance?\n",
    "####Inappropriate Intimacy\n",
    "Watch out for classes that spend too much time together, or classes that interface in inappropriate ways. Classes should know as little as possible about each other.\n",
    "####Indecent Exposure\n",
    "Beware of classes that unnecessarily expose their internals. Aggressively refactor classes to minimize their public surface. You should have a compelling reason for every item you make public. If you don't, hide it.\n",
    "####Feature Envy\n",
    "Methods that make extensive use of another class may belong in another class. Consider moving this method to the class it is so envious of.\n",
    "####Lazy Class\n",
    "Classes should pull their weight. Every additional class increases the complexity of a project. If you have a class that isn't doing enough to pay for itself, can it be collapsed or combined into another class?\n",
    "Message Chains \tWatch out for long sequences of method calls or temporary variables to get routine data. Intermediaries are dependencies in disguise. \n",
    "####Middle Man\n",
    "If a class is delegating all its work, why does it exist? Cut out the middleman. Beware classes that are merely wrappers over other classes or existing functionality in the framework.\n",
    "####Divergent Change\n",
    "If, over time, you make changes to a class that touch completely different parts of the class, it may contain too much unrelated functionality. Consider isolating the parts that changed in another class.\n",
    "####Shotgun Surgery\n",
    "If a change in one class requires cascading changes in several related classes, consider refactoring so that the changes are limited to a single class.\n",
    "####Parallel Inheritance Hierarchies\n",
    "Every time you make a subclass of one class, you must also make a subclass of another. Consider folding the hierarchy into a single class.\n",
    "####Incomplete Library Class\n",
    "We need a method that's missing from the library, but we're unwilling or unable to change the library to include the method. The method ends up tacked on to some other class. If you can't modify the library, consider isolating the method.\n",
    "####Solution Sprawl\n",
    "If it takes five classes to do anything useful, you might have solution sprawl. Consider simplifying and consolidating your design."
   ]
  },
  {
   "cell_type": "markdown",
   "metadata": {
    "slideshow": {
     "slide_type": "slide"
    }
   },
   "source": [
    "### Chrono literals\n",
    "```C++\n",
    "#include <iostream>\n",
    "#include <chrono>\n",
    " \n",
    "int main()\n",
    "{\n",
    "    using namespace std::chrono_literals;\n",
    "    auto day = 24h;\n",
    "    auto halfhour = 0.5h;\n",
    "    std::cout << \"one day is \" << day.count() << \" hours\\n\"\n",
    "              << \"half an hour is \" << halfhour.count() << \" hours\\n\";\n",
    "}\n",
    "```"
   ]
  },
  {
   "cell_type": "markdown",
   "metadata": {
    "collapsed": true,
    "slideshow": {
     "slide_type": "slide"
    }
   },
   "source": [
    "### User defined literals\n",
    "http://cpp.sh/4tgk\n",
    "```\n",
    "#include <iostream>\n",
    "using namespace std;\n",
    "\n",
    "struct Distance{\n",
    "    friend Distance operator\"\" _km(long double  val);\n",
    "    friend Distance operator\"\" _mi(long double val);\n",
    "\n",
    "private:\n",
    "    explicit Distance(long double val) : kilometers{val}\n",
    "    {}\n",
    "\n",
    "    long double kilometers{ 0 };\n",
    "public:\n",
    "    long double get_kilometers() const { return kilometers; }\n",
    "    Distance operator+(const Distance& other) const\n",
    "    {\n",
    "        return Distance(get_kilometers() + other.get_kilometers());\n",
    "    }\n",
    "};\n",
    "\n",
    "Distance operator\"\" _km(long double  val)\n",
    "{\n",
    "    return Distance(val);\n",
    "}\n",
    "\n",
    "Distance operator\"\" _mi(long double val)\n",
    "{\n",
    "    return Distance(val * 1.6);\n",
    "}\n",
    "int main(int argc, char* argv[])\n",
    "{\n",
    "    // Must have a decimal point to bind to the operator we defined!\n",
    "    Distance d{ 402.0_km }; // construct using kilometers\n",
    "    cout << \"Kilometers in d: \" << d.get_kilometers() << endl; // 402\n",
    "\n",
    "    Distance d2{ 402.0_mi }; // construct using miles\n",
    "    cout << \"Kilometers in d2: \" << d2.get_kilometers() << endl;  //643.2\n",
    "\n",
    "    // add distances constructed with different units\n",
    "    Distance d3 = 36.0_mi + 42.0_km;\n",
    "    cout << \"d3 value = \" << d3.get_kilometers() << endl; // 99.6\n",
    "\n",
    "   // Distance d4(90.0); // error constructor not accessible\n",
    "\n",
    "    return 0;\n",
    "}\n",
    "```"
   ]
  },
  {
   "cell_type": "markdown",
   "metadata": {
    "collapsed": true
   },
   "source": [
    "CSV Reader für Beispiele\n",
    "http://stackoverflow.com/questions/1120140/how-can-i-read-and-parse-csv-files-in-c"
   ]
  }
 ],
 "metadata": {
  "celltoolbar": "Slideshow",
  "kernelspec": {
   "display_name": "Python 2",
   "language": "python",
   "name": "python2"
  },
  "language_info": {
   "codemirror_mode": {
    "name": "ipython",
    "version": 2
   },
   "file_extension": ".py",
   "mimetype": "text/x-python",
   "name": "python",
   "nbconvert_exporter": "python",
   "pygments_lexer": "ipython2",
   "version": "2.7.10"
  }
 },
 "nbformat": 4,
 "nbformat_minor": 0
}
