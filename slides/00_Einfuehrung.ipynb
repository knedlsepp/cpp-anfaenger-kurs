{
 "cells": [
  {
   "cell_type": "markdown",
   "metadata": {
    "slideshow": {
     "slide_type": "slide"
    }
   },
   "source": [
    "# C++ Starterkurs \n",
    "Vorbereitung:\n",
    "- Diese Folien: http://goo.gl/vdGcgT\n",
    "- Cheat Sheet: http://goo.gl/fIfXHo\n",
    "- ssh -X kurs[1-12]@vdmmss-dev\n",
    "- git clone https://github.com/knedlsepp/cpp-anfaenger-kurs.git\n",
    "- .bashrc/.vimrc kopieren\n",
    "- Logout & Login"
   ]
  },
  {
   "cell_type": "markdown",
   "metadata": {
    "slideshow": {
     "slide_type": "slide"
    }
   },
   "source": [
    "# Überblick"
   ]
  },
  {
   "cell_type": "markdown",
   "metadata": {
    "slideshow": {
     "slide_type": "subslide"
    }
   },
   "source": [
    "- Überblick\n",
    "- Variablen\n",
    " - Basisdatentypen\n",
    " - Deklaration\n",
    "- Input/Output\n",
    "- Kontrollstrukturen\n",
    "- Funktionen\n",
    "- Container\n",
    "- Schleifen\n",
    "- Funktionen Details\n",
    " - Call by value\n",
    " - Referenzen\n",
    " - Mehrere Rückgabewerte\n",
    "- Präprozessor\n",
    "- Blöcke\n",
    "- Stack vs. Heap\n",
    "- Pointer\n",
    "- Klassen\n",
    "- Konstruktor/Destruktor\n",
    "- new/delete\n",
    "- Exceptions => NEIN\n",
    "- Namespaces => NEIN\n",
    "- Vererbung => NEIN\n",
    "- Templates => NEIN\n",
    "- C++11\n",
    "  - lambdas => Anreißen\n",
    "  - enum class \n",
    "  - smart_pointer => NEIN\n",
    "- http://www.cplusplus.com/reference/\n",
    "- Nützliche Bibliotheken\n",
    "  - Generell: Boost\n",
    "  - Lineare Algebra: Eigen, Armadillo\n",
    "  - Unit testing: Catch, Boost.Test"
   ]
  },
  {
   "cell_type": "markdown",
   "metadata": {
    "slideshow": {
     "slide_type": "subslide"
    }
   },
   "source": [
    "## Sprache C++:\n",
    "- kompilierte Programmiersprache mit starker Typisierung\n",
    "- Weiterentwicklung von C (echte Obermenge)\n",
    "- Schöpfer: Bjarne Stroustrup (Dänemark)\n",
    "- Entwicklung ab 1979 bei AT&T, aktuell liefern C++11 und C++14 enorme Vereinfachungen (und C++17 ist auf dem Weg.)\n",
    "- C++ ist abwärtskompatibel zu C $\\to$  größte Stärke und Schwäche zugleich"
   ]
  },
  {
   "cell_type": "markdown",
   "metadata": {
    "slideshow": {
     "slide_type": "subslide"
    }
   },
   "source": [
    "- Philosophie: \n",
    "    - Hohe Abstraktion ohne für ungenutzte Features zahlen zu müssen (z.B. garbage collector: `shared_ptr`)\n",
    "    - Möglichst viel zur Kompilierzeit auswerten (Templates)\n",
    "- Komplizierte Compilerwarnungen. **Praxistipp:** Tief durchatmen; lesen; dann [stackoverflow.com](http://www.stackoverflow.com)"
   ]
  },
  {
   "cell_type": "markdown",
   "metadata": {
    "collapsed": true,
    "slideshow": {
     "slide_type": "subslide"
    }
   },
   "source": [
    "## Mein Ziel dieses Kurses:\n",
    "- Einblick in modernes C++14 geben\n",
    "- Alte Konstrukte trotzdem kurz ansprechen um fremden Code lesen zu können."
   ]
  },
  {
   "cell_type": "markdown",
   "metadata": {
    "slideshow": {
     "slide_type": "subslide"
    }
   },
   "source": [
    "## [Hello World](http://cpp.sh/37ula):\n",
    "\n",
    "```C++\n",
    "#include <iostream>\n",
    "int main(int argc, char* argv[]){\n",
    "    std::cout << \"Hello World!\" << std::endl;\n",
    "    return 0;\n",
    "}\n",
    "```"
   ]
  },
  {
   "cell_type": "markdown",
   "metadata": {
    "slideshow": {
     "slide_type": "slide"
    }
   },
   "source": [
    "# Variablen"
   ]
  },
  {
   "cell_type": "markdown",
   "metadata": {
    "collapsed": true,
    "slideshow": {
     "slide_type": "subslide"
    }
   },
   "source": [
    "## Basisdatentypen\n",
    "- Ganzzahlen (integers)\n",
    "- Gleitkommazahlen (floating point numbers)\n",
    "- Wahrheitswerte (booleans)\n",
    "- Text (strings)"
   ]
  },
  {
   "cell_type": "markdown",
   "metadata": {
    "slideshow": {
     "slide_type": "subslide"
    }
   },
   "source": [
    "### Ganzzahlen"
   ]
  },
  {
   "cell_type": "markdown",
   "metadata": {
    "slideshow": {
     "slide_type": "-"
    }
   },
   "source": [
    "- `char` (min. 8 bit)\n",
    "- `short` (min. 16 bit)\n",
    "- `int` (min. 16 bit)\n",
    "- `long` (min. 32 bit)\n",
    "- `long long` (min. 64 bit)\n",
    "\n",
    "**Beispiele (\"Literale\"):** `0`,   `-2`,   `100000000000LL`,   `0xDEADBEEF`,   `010`\n",
    "\n",
    "Alle obigen gibt es auch `unsigned` für ausschließlich nichtnegative Ganzzahlen.\n",
    "Tatsächliche Anzahl Bits hängt von der Hardware ab.\n",
    "\n",
    "**Achtung:** In Berechnungen `unsigned` mit obigen `signed` Variablen zu mischen führt zu unerwünschten Effekten.\n",
    "\n",
    "**Praxistipp:** Im Zweifel `int`."
   ]
  },
  {
   "cell_type": "markdown",
   "metadata": {
    "slideshow": {
     "slide_type": "subslide"
    }
   },
   "source": [
    "### Gleitkommazahlen:\n",
    "- `float`\n",
    "- `double`\n",
    "- `long double`\n",
    "\n",
    "**Beispiele:** `123.45`, ` 123.45e10`, ` .1E-100f`, ` 10e10L`\n",
    "\n",
    "Laut Standard:\n",
    "\n",
    "> There are three floating point types: float, double, and long double. The type double provides at least as much precision as float, and the type long double provides at least as much precision as double.\n",
    "\n",
    "> The value representation of floating-point types is implementation-defined.\n",
    "\n",
    "**Praxistipp:** Im Zweifel `double`."
   ]
  },
  {
   "cell_type": "markdown",
   "metadata": {
    "slideshow": {
     "slide_type": "subslide"
    }
   },
   "source": [
    "### <a href=\"http://cpp.sh/6jf\">Numerische Grenzen:</a>\n",
    "```C++\n",
    "#include <iostream>\n",
    "#include <limits>\n",
    "int main () {\n",
    "    std::cout << std::boolalpha;\n",
    "    std::cout << \"Minimum value for int: \"\n",
    "      << std::numeric_limits<int>::min()\n",
    "      << '\\n';\n",
    "    std::cout << \"Maximum value for int: \"\n",
    "      << std::numeric_limits<int>::max() \n",
    "      << '\\n';\n",
    "    std::cout << \"int is signed: \" \n",
    "      << std::numeric_limits<int>::is_signed \n",
    "      << '\\n';\n",
    "    std::cout << \"Non-sign bits in int: \" \n",
    "      << std::numeric_limits<int>::digits \n",
    "      << '\\n';\n",
    "    std::cout << \"int has infinity: \" \n",
    "      << std::numeric_limits<int>::has_infinity \n",
    "      << '\\n';\n",
    "    return 0;\n",
    "}\n",
    "```"
   ]
  },
  {
   "cell_type": "markdown",
   "metadata": {
    "slideshow": {
     "slide_type": "subslide"
    }
   },
   "source": [
    "### Die Wahrheit - Datentyp `bool`\n",
    "#### Beispiele (alle)\n",
    "- `true`\n",
    "- `false`\n",
    "\n",
    "#### Operatoren\n",
    "\n",
    "- `&&`: And\n",
    "- `||`: Or\n",
    "- `!`: Not"
   ]
  },
  {
   "cell_type": "markdown",
   "metadata": {
    "slideshow": {
     "slide_type": "subslide"
    }
   },
   "source": [
    "### Text:\n",
    "#### Einzelne Buchstaben:\n",
    "`char` und für Unicode: auch `wchar_t`, `char16_t`, `char32_t`\n",
    "Literale: Verwende single-quotes (')\n",
    "```C++\n",
    "'A';  // char\n",
    "L'A'; // wchar_t\n",
    "u'A'; // char16_t\n",
    "U'A'; // char32_t\n",
    "```\n",
    "**Praxistipp:** Da in unserem Bereich Unicode-Unterstützung kaum Thema ist: `char` verwenden."
   ]
  },
  {
   "cell_type": "markdown",
   "metadata": {
    "slideshow": {
     "slide_type": "subslide"
    }
   },
   "source": [
    "#### Zeichenketten im C-Stil:\n",
    "Um zu C Code kompatibel zu bleiben, sind Zeichenketten, die mit double-quotes (\") angegeben werden vom gleichen Typ wie in C, nämlich \"Pointer auf konstanten `char`\".\n",
    "Sie sind mit `\\0` terminierte Folgen von `char`s. Zusätzlich gibt es noch folgende Varianten.\n",
    "\n",
    "```C++\n",
    "// string literals\n",
    "\"hello\"; // const char*\n",
    "L\"hello\"; // const wchar_t*\n",
    "u\"hello\"; // const char16_t*\n",
    "U\"hello\"; // const char32_t*\n",
    "R\"(\"Hello world\")\"; // raw const char*\n",
    "```\n",
    "Siehe: http://en.cppreference.com/w/cpp/language/string_literal"
   ]
  },
  {
   "cell_type": "markdown",
   "metadata": {
    "slideshow": {
     "slide_type": "subslide"
    }
   },
   "source": [
    "#### Strings im C++ Stil:\n",
    "In C++ gibt es den Datentyp: `std::string`. Die zugehörigen Literale verwenden 's' als Suffix:\n",
    "```C++\n",
    "\"hello\"s; // std::string instead of const char*\n",
    "```\n",
    "Um diese zu verwenden muss im gleichen Block der `string_literals` Namespace verwendet werden.\n",
    "```C++\n",
    "using namespace std::string_literals;\n",
    "```\n",
    "\n",
    "- Memory management entfällt\n",
    "- Kann leicht verkettet, durchsucht, verglichen, kopiert werden, etc.. Siehe: http://www.cplusplus.com/reference/string/string/\n",
    "\n",
    "\n",
    "**Praxistipp:** Verwende `std::string` mittels `\"Text\"s` Literalen für Variablen. Bei `std::cout` reicht auch C-Style: `\"Text\"` ohne `s` Suffix.\n"
   ]
  },
  {
   "cell_type": "markdown",
   "metadata": {
    "slideshow": {
     "slide_type": "subslide"
    }
   },
   "source": [
    "## Deklaration & Initialisierung \n",
    "Ich kaufe ein *\"a\"*."
   ]
  },
  {
   "cell_type": "markdown",
   "metadata": {
    "slideshow": {
     "slide_type": "fragment"
    }
   },
   "source": [
    "**Deklaration** einer Variablen/Funktion/Struktur/Klasse: \n",
    "- \"Sei $a$ eine ganze Zahl.\", \n",
    "- \"Sei $f$ eine Funktion von $\\mathbb{R} \\to \\mathbb{R}$\""
   ]
  },
  {
   "cell_type": "markdown",
   "metadata": {
    "slideshow": {
     "slide_type": "fragment"
    }
   },
   "source": [
    "**Initialisierung** einer Variablen: \n",
    "- \"Sei a = 3.\""
   ]
  },
  {
   "cell_type": "markdown",
   "metadata": {
    "slideshow": {
     "slide_type": "fragment"
    }
   },
   "source": [
    "**Definition** einer Funktion/Klasse:\n",
    "- Die zuvor nicht näher spezifizierte  Funktion ist $f := \\sin$."
   ]
  },
  {
   "cell_type": "markdown",
   "metadata": {
    "slideshow": {
     "slide_type": "subslide"
    }
   },
   "source": [
    "#### Deklaration ohne Initialisierung. \n",
    "\n",
    "```C++\n",
    "int a; // Deklaration\n",
    "a = 0; // Zuweisung```"
   ]
  },
  {
   "cell_type": "markdown",
   "metadata": {
    "slideshow": {
     "slide_type": "fragment"
    }
   },
   "source": [
    "#### Deklaration + Initialisierung, Typ: \"Wie in C\"\n",
    "\n",
    "```C++\n",
    "int a = 0; \n",
    "``` "
   ]
  },
  {
   "cell_type": "markdown",
   "metadata": {
    "slideshow": {
     "slide_type": "fragment"
    }
   },
   "source": [
    "#### Object-style initialization aus C++ vor allem für benutzerdefinierte Typen\n",
    "\n",
    "```C++\n",
    "int a(0);\n",
    "```"
   ]
  },
  {
   "cell_type": "markdown",
   "metadata": {
    "slideshow": {
     "slide_type": "subslide"
    }
   },
   "source": [
    "#### Member initialization in Konstruktoren\n",
    "\n",
    "```C++\n",
    "struct S {\n",
    "    int a;\n",
    "    S(): a(0) {}\n",
    "};\n",
    "```"
   ]
  },
  {
   "cell_type": "markdown",
   "metadata": {
    "slideshow": {
     "slide_type": "fragment"
    }
   },
   "source": [
    "#### Initialisierung von Aggregaten (Arrays & *\"Plain-Old-Data\"*)\n",
    "\n",
    "```C++\n",
    "int a1[2] = {0,1};\n",
    "char a2[] = \"message\";\n",
    "char a3[] = {'m','e','s','s','a','g','e','\\0'};\n",
    "struct S {\n",
    "    int b,c;\n",
    "};\n",
    "S a = {0,1};\n",
    "```"
   ]
  },
  {
   "cell_type": "markdown",
   "metadata": {
    "slideshow": {
     "slide_type": "fragment"
    }
   },
   "source": [
    "Viele Möglichkeiten. Nicht alles funktioniert in jedem Kontext.\n",
    "Führt bspw. dazu dass man POD-Member in Objekten nicht initialisieren kann und zum *most vexing parse*: `Widget w();`"
   ]
  },
  {
   "cell_type": "markdown",
   "metadata": {
    "slideshow": {
     "slide_type": "subslide"
    }
   },
   "source": [
    "C++11 vereinheitlicht dieses Wirrwarr durch eine neue Syntax die überall funktioniert:\n",
    "*Uniform (brace) initialization*\n",
    "```C++\n",
    "// Für einen Integer\n",
    "int a{0}; // \"Ich brauche ein a mit dem Wert 0.\"\n",
    "// Alternativ:\n",
    "int a{};  // {} liefert default Wert (bei int: 0)\n",
    "\n",
    "// Für einen Vektor von Integern\n",
    "std::vector<int> v{1,2,3,4};\n",
    "\n",
    "// Für einen Integer C-Array\n",
    "int daten[4] {1,2,3,4};\n",
    "\n",
    "// etc.\n",
    "...\n",
    "```"
   ]
  },
  {
   "cell_type": "markdown",
   "metadata": {
    "slideshow": {
     "slide_type": "subslide"
    }
   },
   "source": [
    "## Der C++ Neuwagen: `auto`\n",
    "Darauf haben C++ Programmierer lange gewartet. \n",
    "Seit C++11 gibt es endlich das `auto` Keyword für *automatic type deduction*:\n",
    "```C++\n",
    "auto variable = value;\n",
    "```\n",
    "oder mit explizitem Typ\n",
    "```C++\n",
    "auto variable = Type{value};\n",
    "```"
   ]
  },
  {
   "cell_type": "markdown",
   "metadata": {
    "slideshow": {
     "slide_type": "subslide"
    }
   },
   "source": [
    "**Praxistipp:**  Verwende **AAA**: Almost always auto.\n",
    "\n",
    "(Empfehlung von Herb Sutter, Vorsitzender des ISO-C++-Standardisierungskomitees:\n",
    "http://herbsutter.com/2013/08/12/gotw-94-solution-aaa-style-almost-always-auto/ )\n",
    "```C++\n",
    "\n",
    "auto a = 123;\n",
    "auto b = \"Text\"s;\n",
    "auto c = 3.14;\n",
    "auto d = f(2.123); // f is some given function\n",
    "```\n",
    "- Vermeidet Bugs durch implizite Typkonvertierung\n",
    "- Fördert wiederverwendbaren Code (\"Templates light\")\n",
    "- Ist effizient\n",
    "- Ist praktisch"
   ]
  },
  {
   "cell_type": "markdown",
   "metadata": {
    "slideshow": {
     "slide_type": "slide"
    }
   },
   "source": [
    "# Basic Input/Output"
   ]
  },
  {
   "cell_type": "markdown",
   "metadata": {
    "slideshow": {
     "slide_type": "subslide"
    }
   },
   "source": [
    "## Input/Output - Tastatur/Bildschirm\n",
    "\n",
    "- Header: `<iostream>`\n",
    "- Input: `cin`\n",
    "- Output: `cout`\n",
    "\n",
    "\n",
    "```C++\n",
    "#include <iostream>\n",
    "#include <string>\n",
    "int main(){\n",
    "    auto input = std::string{};\n",
    "    std::cin >> input;\n",
    "    std::cout << \"Hallo \" << input << std::endl;\n",
    "    return 0;\n",
    "}\n",
    "```"
   ]
  },
  {
   "cell_type": "markdown",
   "metadata": {
    "slideshow": {
     "slide_type": "slide"
    }
   },
   "source": [
    "# Zusammenfassung Basics, Variablen, Input/Output"
   ]
  },
  {
   "cell_type": "markdown",
   "metadata": {
    "slideshow": {
     "slide_type": "subslide"
    }
   },
   "source": [
    "## Quiz\n",
    "- Welche Funktion benötigt jedes ausführbare Programm? Wie sieht ihre Signatur aus?\n",
    "- Welche Basisdatentypen gibt es? Wie sehen die entsprechenden Literale aus?\n",
    "- Was bedeutet Deklaration und Initialisierung?\n",
    "- Wie deklariert man Variablen (modern)?\n",
    "- Wie funktioniert Input/Output?"
   ]
  },
  {
   "cell_type": "markdown",
   "metadata": {
    "slideshow": {
     "slide_type": "subslide"
    }
   },
   "source": [
    "## Aufgabe\n",
    "Schreibe ein Programm, das einen integer: `i`, einen double: `d` und einen `std::string`: `s` einliest und alle drei folgendermaßen ausgibt:\n",
    "\n",
    "```\n",
    "i: i-Wert\n",
    "d: d-Wert\n",
    "s: s-Wert\n",
    "```\n",
    "Verwende für Deklarationen den modernen AAA-Stil.\n",
    "Kompiliere mit folgender `bash`-Funktion:\n",
    "\n",
    "```\n",
    "modern_g++() {\n",
    "    g++ -std=c++14 -Wall -Wextra -pedantic \"$@\"\n",
    "}\n",
    "modern_g++ dateiname.cpp\n",
    "```\n"
   ]
  },
  {
   "cell_type": "markdown",
   "metadata": {
    "slideshow": {
     "slide_type": "slide"
    }
   },
   "source": [
    "# Kontrollstrukturen\n"
   ]
  },
  {
   "cell_type": "markdown",
   "metadata": {
    "slideshow": {
     "slide_type": "subslide"
    }
   },
   "source": [
    "### Die Klassiker: `if`, `else`\n",
    "\n",
    "- Syntax:\n",
    "\n",
    "```C++\n",
    "if (condition_holds){\n",
    "    do_something();\n",
    "} else {\n",
    "    do_something_else();\n",
    "}\n",
    "```\n",
    "\n",
    "- `else` optional\n",
    "- Blockklammern optional, aber Achtung:\n",
    "\n",
    "```C++\n",
    "if ( 0 == 1 )\n",
    "    std::cout << \"That's unpossible!\";\n",
    "    std::cout << \"All of math is WRONG!\";\n",
    "```\n",
    "\n",
    "**Praxistipp:** Immer Blockklammern verwenden!"
   ]
  },
  {
   "cell_type": "markdown",
   "metadata": {
    "slideshow": {
     "slide_type": "subslide"
    }
   },
   "source": [
    "### Verschiedenes: `switch`\n",
    "```C++\n",
    "auto type = 2;\n",
    "switch(type) {\n",
    "    case 1: std::cout << \"FA-File\"; \n",
    "            break;\n",
    "    case 2: std::cout << \"Grib-File\";\n",
    "            break;\n",
    "    case 3: std::cout << \"ODB-File\";\n",
    "            break;\n",
    "}\n",
    "```"
   ]
  },
  {
   "cell_type": "markdown",
   "metadata": {
    "slideshow": {
     "slide_type": "subslide"
    }
   },
   "source": [
    "**Praxistipp**: Komplizierte `switch` Anweisungen sollte man eher vermeiden (oder überhaupt alle). Verwende stattdessen z.B. eine `map` oder `unordered_map`:\n",
    "\n",
    "```C++\n",
    "// We use the `std` namespace, so we don't have to write `std::` all the time\n",
    "using namespace std;\n",
    "auto file_types = unordered_map<int, string>\n",
    "                 {{1, \"FA-File\"},\n",
    "                  {2, \"Grib-File\"},\n",
    "                  {3, \"ODB-File\"}};\n",
    "auto type = 2;\n",
    "cout << file_types[type];\n",
    "```"
   ]
  },
  {
   "cell_type": "markdown",
   "metadata": {
    "slideshow": {
     "slide_type": "slide"
    }
   },
   "source": [
    "# Schleifen"
   ]
  },
  {
   "cell_type": "markdown",
   "metadata": {
    "slideshow": {
     "slide_type": "subslide"
    }
   },
   "source": [
    "## Schleifen (old school)\n",
    "#### Zählschleife:\n",
    "```C++\n",
    "auto max = 10;\n",
    "for(auto i = 0; i<max; ++i){\n",
    "    std::cout << \"Wert von i: \" << i << std::endl;\n",
    "}\n",
    "```\n",
    "#### Bedingungsschleife:\n",
    "```C++\n",
    "while (condition_holds){\n",
    "    do_something();\n",
    "}\n",
    "// And:\n",
    "do {\n",
    "    do_something_at_least_once();\n",
    "} while (condition_holds);\n",
    "```"
   ]
  },
  {
   "cell_type": "markdown",
   "metadata": {
    "slideshow": {
     "slide_type": "slide"
    }
   },
   "source": [
    "# Funktionen"
   ]
  },
  {
   "cell_type": "markdown",
   "metadata": {
    "slideshow": {
     "slide_type": "subslide"
    }
   },
   "source": [
    "## Funktionen definieren\n",
    "```C++\n",
    "Rueckgabetyp name_der_funktion(Parametertyp1 p1, Parametertyp2 p2, usw...){\n",
    "    ...\n",
    "    return ...;\n",
    "}\n",
    "```\n",
    "`Rueckgabetyp` kann auch `auto` sein. Lediglich der Parametertyp muss explizit angegeben werden. Für Vorwärtsdeklarationen nutze: \n",
    "```C++\n",
    "auto f(..) -> Rueckgabetyp;\n",
    "```\n",
    "\n",
    "(G++ 4.9.1 unterstützt aber experimentell schon \"*generic functions*\", also \"`auto f(auto x)`\". Im Moment offiziell nur möglich mittels: Templates oder C++14 lambdas)"
   ]
  },
  {
   "cell_type": "markdown",
   "metadata": {
    "slideshow": {
     "slide_type": "subslide"
    }
   },
   "source": [
    "Beispiele:\n",
    "```C++\n",
    "auto square(double x){\n",
    "    return x*x;\n",
    "}\n",
    "\n",
    "auto sum(double x, double y, double z){\n",
    "    return x+y+z;\n",
    "}\n",
    "\n",
    "auto f(double x) -> double; // Forward declare f\n",
    "...\n",
    "auto f(double x) -> double { //Define f\n",
    "    return 42.*x;\n",
    "}\n",
    "\n",
    "void print_Hello_World(){\n",
    "    std::cout << \"Hello World!!\" << std::endl;\n",
    "}\n",
    "```"
   ]
  },
  {
   "cell_type": "markdown",
   "metadata": {
    "slideshow": {
     "slide_type": "subslide"
    }
   },
   "source": [
    "Weitere moderne Beispiele:\n",
    "```C++\n",
    "auto inofficial_square(const auto& a){\n",
    "    // Works for arbitrary types!\n",
    "    // How great is that!\n",
    "    // But is only experimental C++ yet. :-(\n",
    "    // C++17 maybe?\n",
    "    return a*a;\n",
    "}\n",
    "\n",
    "// Templated Version of general square.\n",
    "template <typename T>\n",
    "T square(const T& x){\n",
    "    return x*x;\n",
    "}\n",
    "\n",
    "// Seit C++14\n",
    "// Polymorphic lambda is modern workaround for generic functions:\n",
    "auto square = [](const auto& x){\n",
    "    return x*x;\n",
    "};\n",
    "\n",
    "\n",
    "```"
   ]
  },
  {
   "cell_type": "markdown",
   "metadata": {
    "slideshow": {
     "slide_type": "skip"
    }
   },
   "source": [
    "```C++\n",
    "auto sum = [](auto v){\n",
    "    using val_type = typename decltype(v)::value_type;\n",
    "    auto sum = val_type{};\n",
    "    for (const auto& e : v){\n",
    "        sum+=e;\n",
    "    }\n",
    "    return sum;\n",
    "};\n",
    "```"
   ]
  },
  {
   "cell_type": "markdown",
   "metadata": {
    "slideshow": {
     "slide_type": "subslide"
    }
   },
   "source": [
    "## Funktionen als Parameter (Ja, das geht!)\n",
    "\n",
    "- Header `<functional>`\n",
    "- Eine Funktion hat Typus  `std::function<...>` wobei die spitzen Klammern die Signatur enthalten:\n",
    "\n",
    "- Beispiel: Nullstellensuche mittels Newtonverfahren.\n",
    "\n",
    "```C++\n",
    "auto newtons_method(\n",
    "            std::function<double(double)> f,\n",
    "            std::function<double(double)> fprime, \n",
    "            double initial_value){\n",
    "...\n",
    "}\n",
    "newtons_method(sin, cos, 3.14);\n",
    "```"
   ]
  },
  {
   "cell_type": "markdown",
   "metadata": {
    "slideshow": {
     "slide_type": "subslide"
    }
   },
   "source": [
    "Nullstellensuche mit selbst definierten Funktionen:\n",
    "\n",
    "```C++\n",
    "auto square(double x){\n",
    "    return x*x;\n",
    "}\n",
    "auto times_two(double x){\n",
    "    return 2*x;\n",
    "}\n",
    "newtons_method(square, times_two, 0.1);\n",
    "```"
   ]
  },
  {
   "cell_type": "markdown",
   "metadata": {
    "slideshow": {
     "slide_type": "subslide"
    }
   },
   "source": [
    "## Anonyme Funktionen - Lambdas (C++11 & Urcool)\n",
    "- Syntax `[](Parametertyp1 p1, ...){...}`\n",
    "- Beispiel `square`, `times_two`:\n",
    "```C++\n",
    "newtons_method([](double x){return x*x;},\n",
    "                 [](double x){return 2*x;},\n",
    "                 0.1);\n",
    "```\n",
    "- Lambdas können auch in Variablen gespeichert werden:\n",
    "```C++\n",
    "auto square = [](double x){return x*x;};\n",
    "```"
   ]
  },
  {
   "cell_type": "markdown",
   "metadata": {
    "slideshow": {
     "slide_type": "slide"
    }
   },
   "source": [
    "# Zusammenfassung Kontrollstrukturen, Schleifen, Funktionen\n"
   ]
  },
  {
   "cell_type": "markdown",
   "metadata": {
    "slideshow": {
     "slide_type": "subslide"
    }
   },
   "source": [
    "## Quiz\n",
    "- Welche Kontrollstrukturen gibt es?\n",
    "- Wie definiert man Funktionen?\n",
    "- Was ist eine Signatur?\n",
    "- Wie liefert man Werte aus Funktionen zurück?\n",
    "- Welchen Rückgabetyp haben Funktionen ohne Rückgabe?\n",
    "- Wie können Funktionen als Parameter übergeben werden?\n",
    "- Was ist ein Lambda und wie wird es definiert?"
   ]
  },
  {
   "cell_type": "markdown",
   "metadata": {
    "slideshow": {
     "slide_type": "slide"
    }
   },
   "source": [
    "## Aufgaben\n",
    "(Ohne die Funktionen aus der [`<cmath>`-Library](http://www.cplusplus.com/reference/cmath/) zu verwenden)\n",
    "\n",
    "1. **Absolutbetrag $|x|$:**\n",
    "Schreibe eine Funktion `double my_abs(double)`, die den Absolutbetrag zurückliefert.\n",
    "\n",
    "2. **Faktorielle $x!$:**\n",
    "Schreibe eine Funktion `auto factorial(unsigned long long)`, welche die Fakultätsfunktion implementiert. \n",
    "\n",
    "3. **Exponentialfunktion $e^x$:**\n",
    "Schreibe eine Funktion `auto my_exp(double)`, welche die Formel $e^x = \\sum_{n=0}^{\\infty} x^n/n! = \\sum_{n=0}^{\\infty} \\frac{x}{1} \\cdot \\frac{x}{2} \\cdot \\frac{x}{n-1}\\cdot \\frac{x}{n}$ implementiert.\n",
    "\n",
    "4. **Newtonverfahren:** Schreibe die Funktion `newtons_method`, welche Nullstellen mittels Newton-Verfahren bestimmt.\n",
    "\n",
    "```C++\n",
    "auto newtons_method(function<double(double)> f, \n",
    "               function<double(double)> fprime,\n",
    "               double initial_value);\n",
    "```"
   ]
  },
  {
   "cell_type": "markdown",
   "metadata": {
    "slideshow": {
     "slide_type": "slide"
    }
   },
   "source": [
    "## Container\n",
    "Die C++ Standardbibliothek enthält viele generische Containertypen mit jeweils anderen Eigenschaften.\n",
    "\n",
    "- Sequence containers:\n",
    "    - `vector`: Vector\n",
    "    - `deque`: Double ended queue\n",
    "    - `forward_list`. Forward list\n",
    "    - `list`: List\n",
    "    - `array`: Array class\n",
    "\n",
    "- Container adaptors:\n",
    "    - `stack`: LIFO stack\n",
    "    - `queue`: FIFO queue\n",
    "    - `priority_queue`: Priority queue"
   ]
  },
  {
   "cell_type": "markdown",
   "metadata": {
    "slideshow": {
     "slide_type": "subslide"
    }
   },
   "source": [
    "- Associative containers:\n",
    "    - `set`: Set\n",
    "    - `multiset`: Multiple-key set\n",
    "    - `map`: Map\n",
    "    - `multimap`: Multiple-key map\n",
    "\n",
    "- Unordered associative containers:\n",
    "    - `unordered_set`: Unordered Set\n",
    "    - `unordered_multiset`: Unordered Multiset\n",
    "    - `unordered_map`: Unordered Map\n",
    "    - `unordered_multimap`: Unordered Multimap\n",
    "    \n",
    "**Praxistipp:** Mit aller Wahrscheinlichkeit sind für uns am wichtigsten: `vector`, `map`, `unordered_map`, `set` und `unordered_set`"
   ]
  },
  {
   "cell_type": "markdown",
   "metadata": {
    "slideshow": {
     "slide_type": "subslide"
    }
   },
   "source": [
    "So können Container erstellt und mit Werten initialisiert werden.\n",
    "```C++\n",
    "\n",
    "auto v = vector<double>{1., 2., 3., 4., 1., 2.};\n",
    "auto s = set<int>{0, -1, 123};\n",
    "auto file_types = \n",
    "    std::unordered_map<int, std::string> {\n",
    "        {1, \"FA-File\"}, \n",
    "        {2, \"Grib-File\"}, \n",
    "        {3, \"ODB-File\"}\n",
    "    };\n",
    "```"
   ]
  },
  {
   "cell_type": "markdown",
   "metadata": {
    "slideshow": {
     "slide_type": "subslide"
    }
   },
   "source": [
    "Leider gibt es standardmäßig keine reellwertigen Vektoren die eintragsweise natürliche arithmetische Operationen unterstützen. \n",
    "\n",
    "```C++\n",
    "    auto v1 = std::vector<int>{1, 2, 3};\n",
    "    auto v2 = std::vector<int>{4, 5, 6};\n",
    "    auto v3 = v1+v2;\n",
    "```\n",
    "liefert Compiler-Error:\n",
    "```\n",
    "no match for 'operator+' (operand types are 'std::vector<int>' and 'std::vector<int>')\n",
    "```\n",
    "Dafür greifen wir am Besten auf eine der vielen freien Bibliotheken für Lineare Algebra zurück. (z.B. Eigen oder Armadillo)"
   ]
  },
  {
   "cell_type": "markdown",
   "metadata": {
    "slideshow": {
     "slide_type": "slide"
    }
   },
   "source": [
    "##  Schleifen (new school)"
   ]
  },
  {
   "cell_type": "markdown",
   "metadata": {
    "slideshow": {
     "slide_type": "subslide"
    }
   },
   "source": [
    "### Die Klassiker:\n",
    "Auch die sind immer noch praktisch!\n",
    "#### Zählschleife:\n",
    "```C++\n",
    "using namespace std; // For cout and endl\n",
    "auto max = 10;\n",
    "for(auto i = 0; i<max; ++i){\n",
    "    cout << \"Wert von i: \" << i << endl;\n",
    "}\n",
    "```\n",
    "#### Bedingungsschleife:\n",
    "```C++\n",
    "while (condition_holds){\n",
    "    do_something();\n",
    "}\n",
    "// And:\n",
    "do {\n",
    "    do_something_at_least_once();\n",
    "} while (condition_holds);\n",
    "```\n"
   ]
  },
  {
   "cell_type": "markdown",
   "metadata": {
    "slideshow": {
     "slide_type": "subslide"
    }
   },
   "source": [
    "### Moderne Schleifen über Container:\n",
    "Am Beispiel: Einträge quadrieren"
   ]
  },
  {
   "cell_type": "markdown",
   "metadata": {
    "slideshow": {
     "slide_type": "subslide"
    }
   },
   "source": [
    "#### \"Range-based for-loop\" C++11\n",
    "\n",
    "```C++\n",
    "auto v = std::vector<double>{1.2, 3.4, 5.6, 7.6};\n",
    "for (auto& e : v){\n",
    "    e = e*e;\n",
    "}\n",
    "```"
   ]
  },
  {
   "cell_type": "markdown",
   "metadata": {
    "slideshow": {
     "slide_type": "subslide"
    }
   },
   "source": [
    "####  `transform` und Funktion:\n",
    "\n",
    "```C++\n",
    "auto v = std::vector<double>{1.2, 3.4, 5.6, 7.6};\n",
    "auto square(double x){\n",
    "    return x*x;\n",
    "}\n",
    "// Apply `square` to the range [begin(v),end(v)),\n",
    "// save results beginning at `begin(v)`\n",
    "std::transform(std::begin(v), std::end(v),\n",
    "               std::begin(v), square);\n",
    "```"
   ]
  },
  {
   "cell_type": "markdown",
   "metadata": {
    "slideshow": {
     "slide_type": "subslide"
    }
   },
   "source": [
    "####  `transform` und lambda\n",
    "Analog zur Funktion `square` von oben kann man auch ein lambda verwenden:\n",
    "```C++\n",
    "using namespace std;\n",
    "auto v = vector<double>{1.2, 3.4, 5.6, 7.6};\n",
    "transform(begin(v), end(v),\n",
    "          begin(v), [](double x){return x*x;});\n",
    "```"
   ]
  },
  {
   "cell_type": "markdown",
   "metadata": {
    "slideshow": {
     "slide_type": "subslide"
    }
   },
   "source": [
    "#### Mittels Iteratoren\n",
    "```C++\n",
    "std::vector<double> v {1.2, 3.4, 5.6, 7.6};\n",
    "for (auto it = begin(v); it != end(v); ++it){\n",
    "    *it = (*it)*(*it);\n",
    "}\n",
    "```\n",
    "- Simuliert Pointer, deswegen komplizierte *-Syntax \n",
    "- Viel Schreibarbeit\n",
    "- Immer noch praktisch, wenn nicht gesamter Range bearbeitet werden soll. (statt `begin` und `end` andere Positionen)"
   ]
  },
  {
   "cell_type": "markdown",
   "metadata": {
    "slideshow": {
     "slide_type": "subslide"
    }
   },
   "source": [
    "#### Nur bedingt empfehlenswert: Zählschleife wie in C\n",
    "```C++\n",
    "std::vector<double> v {1.2, 3.4, 5.6, 7.6};\n",
    "for (auto i = std::vector<double>::size_type{0};\n",
    "     i < v.size(); ++i){\n",
    "    v[i] = v[i]*v[i]; \n",
    "}\n",
    "```\n",
    "Nur sinnvoll wenn Index `i` **wirklich** explizit gebraucht wird. (Im obigen Beispiel nicht.)\n",
    "\n",
    "**Beachte:** Statt `auto i = unsigned int{0}` oder `auto i = unsigned long{0}` wird explizit \n",
    "```C++\n",
    "std::vector<double>::size_type\n",
    "```\n",
    "verwendet wird. So kann es nicht passieren dass versehentlich ein zu kleiner Typ verwendet wird (`int` ist zu klein für lange Vektoren!)."
   ]
  },
  {
   "cell_type": "markdown",
   "metadata": {
    "slideshow": {
     "slide_type": "subslide"
    }
   },
   "source": [
    "### Moderne Schleifen über konstante Container:\n",
    "Beispiel: Einträge ausgeben"
   ]
  },
  {
   "cell_type": "markdown",
   "metadata": {
    "slideshow": {
     "slide_type": "subslide"
    }
   },
   "source": [
    "#### Range-based-for mit `const`\n",
    "```C++\n",
    "auto v = std::vector<double>{1.2, 3.4, 5.6, 7.6};\n",
    "for (const auto& e: v){\n",
    "    std::cout << e;\n",
    "}\n",
    "```"
   ]
  },
  {
   "cell_type": "markdown",
   "metadata": {
    "slideshow": {
     "slide_type": "subslide"
    }
   },
   "source": [
    "Warum sollte ich `const` verwenden?\n",
    "- Vorteile:\n",
    "    - Drückt für Leser des Codes die Absicht keine Einträge ändern zu wollen bestmöglich aus\n",
    "    - Compiler kann überprüfen, dass kein versehentlicher Zugriff passiert\n",
    "    - Compiler kann dadurch ggf. noch mehr optimieren"
   ]
  },
  {
   "cell_type": "markdown",
   "metadata": {
    "slideshow": {
     "slide_type": "subslide"
    }
   },
   "source": [
    "#### `for_each` und Funktion (siehe: http://www.cplusplus.com/reference/algorithm/).\n",
    "```C++\n",
    "void print_value(double d){\n",
    "    std::cout << d << std::endl;\n",
    "}\n",
    "for_each(begin(v), end(v), print_value); \n",
    "```"
   ]
  },
  {
   "cell_type": "markdown",
   "metadata": {
    "slideshow": {
     "slide_type": "subslide"
    }
   },
   "source": [
    "#### `for_each` und lambda\n",
    "```C++\n",
    "for_each(begin(v), end(v), [](const auto& e){\n",
    "                            std::cout << e;}); \n",
    "```"
   ]
  },
  {
   "cell_type": "markdown",
   "metadata": {
    "slideshow": {
     "slide_type": "subslide"
    }
   },
   "source": [
    "#### Mittels Iteratoren\n",
    "```C++\n",
    "std::vector<double> v {1.2, 3.4, 5.6, 7.6};\n",
    "for (auto it = cbegin(v); it != cend(v); ++it){\n",
    "    std::cout << *it;\n",
    "}\n",
    "```\n",
    "**Beachte:** `cbegin` und `cend`. Liefern einen `const_iterator`.\n"
   ]
  },
  {
   "cell_type": "markdown",
   "metadata": {
    "slideshow": {
     "slide_type": "subslide"
    }
   },
   "source": [
    "**Praxistipp:**\n",
    "\n",
    "Schleifen-Präferenzen in absteigender Reihenfolge:\n",
    "\n",
    "1. Ohne Schleife mittels vorhandenem Standardalgorithmus aus\n",
    "`<algorithm>` oder `<numeric>`.\n",
    "2. *Range-based-for-loop*. (const bzw. non-const)\n",
    "3. Iteratoren (Wenn nur Teile eines Containers relevant sind.)\n",
    "4.  Zählschleife (Falls Indices explizit gebraucht werden.)\n",
    "\n",
    "Wenn Absicht besteht keine Einträge zu ändern verwende `const`.\n"
   ]
  },
  {
   "cell_type": "markdown",
   "metadata": {
    "slideshow": {
     "slide_type": "slide"
    }
   },
   "source": [
    "# Zusammenfassung Container & moderne Schleifen"
   ]
  },
  {
   "cell_type": "markdown",
   "metadata": {},
   "source": [
    "## Quiz\n",
    "- Welche Container gibt es?\n",
    "- Wie erstellt man einen Container?\n",
    "- Wie erstellt man einen `int`-vector / `double`-vector?\n",
    "- Welche modernen Schleifen haben wir kennengelernt?\n",
    "- Wie sehen die aus?\n",
    "- Was hat es mit `const` auf sich?"
   ]
  },
  {
   "cell_type": "markdown",
   "metadata": {
    "slideshow": {
     "slide_type": "slide"
    }
   },
   "source": [
    "## Aufgaben\n",
    "- Schleifen\n",
    "- Container\n",
    "\n",
    "**S"
   ]
  },
  {
   "cell_type": "markdown",
   "metadata": {
    "slideshow": {
     "slide_type": "slide"
    }
   },
   "source": [
    "## Hinter den Kulissen: Funktionen"
   ]
  },
  {
   "cell_type": "markdown",
   "metadata": {
    "slideshow": {
     "slide_type": "subslide"
    }
   },
   "source": [
    "### C&C++: Call by value\n",
    "Standardmäßig werden für einen Funktionsaufruf die Argumente kopiert.\n",
    "Folgende Funktion hat deshalb keinen Effekt.\n",
    "```C++\n",
    "void f(double x){\n",
    "    x = x*x;\n",
    "}\n",
    "auto x = 3;\n",
    "f(x); // This has no effect on our x\n",
    "      // The function only modifies a copy of x.\n",
    "std::cout << x;      \n",
    "```"
   ]
  },
  {
   "cell_type": "markdown",
   "metadata": {
    "slideshow": {
     "slide_type": "subslide"
    }
   },
   "source": [
    "Vorteile:\n",
    "- Keine unerwartete *\"Spooky action at a distance\"*. \n",
    "- Bildet das mathematische Prinzip einer Funktion ab. (Keine Nebeneffekte)\n",
    "- Versehentliches modifizieren äußerer Variablen wird so verhindert.\n",
    "- Oft wird ohnehin eine Kopie der Daten benötigt.\n",
    "\n",
    "Nachteile:\n",
    "- Kopien sind manchmal kostspielig\n",
    "\n",
    "C++ Philosophie: *\"don't pay for what you don't use\"*. $\\to$\n",
    "Man kann die Kopie umgehen."
   ]
  },
  {
   "cell_type": "markdown",
   "metadata": {
    "slideshow": {
     "slide_type": "subslide"
    }
   },
   "source": [
    "### Referenzen\n",
    "- Anderer Name für gleiche Variable\n",
    "- Vermeidung von Kopien\n",
    "- `const Type& variable_name` $\\to$  read-only\n",
    "- `Type& variable_name` $\\to$  read/write\n",
    "- Sind uns schon auf den *range-based-loop* Folien untergekommen: `for (auto& e : v)`,\n",
    " `for (const auto& e : v)`"
   ]
  },
  {
   "cell_type": "markdown",
   "metadata": {
    "slideshow": {
     "slide_type": "subslide"
    }
   },
   "source": [
    "#### Beispiel:\n",
    "```C++\n",
    "auto sum_entries(const vector<double>& v){\n",
    "    auto sum = double{0};\n",
    "    for (const auto& e : v){\n",
    "        sum+=e;\n",
    "    }\n",
    "    return sum;\n",
    "}```\n",
    "- `const vector<double>&` als Parameter\n",
    "- `const auto&` in der range-based-loop."
   ]
  },
  {
   "cell_type": "markdown",
   "metadata": {
    "slideshow": {
     "slide_type": "slide"
    }
   },
   "source": [
    "### Empfehlung für Parameter-Übergabe:\n",
    "\n",
    "\n",
    "#### Per Kopie, wenn:\n",
    "- Standardmäßig, wenn ausreichend schnell (Basisdatentypen oder kleine Aggregate):\n",
    "```C++\n",
    "auto square(double x)\n",
    "```\n",
    "\n",
    "- Funktion ohnehin für den Rückgabewert eine gleichartige Datenmenge generieren müsste:\n",
    "\n",
    "```C++\n",
    "auto square_vector_entries(vector<double> v)\n",
    "// Input:  {0, 1, 5, 3, ...}\n",
    "// Output: {0, 1, 25, 9, ...}\n",
    "```\n",
    "\n",
    "#### Per const Referenz, wenn:\n",
    "- Wir große Datenmengen übergeben wollen, aber keine Kopien benötigen\n",
    "```C++\n",
    "auto max(const vector<double>& v)\n",
    "auto sum(const vector<double>& v)```"
   ]
  },
  {
   "cell_type": "markdown",
   "metadata": {
    "slideshow": {
     "slide_type": "subslide"
    }
   },
   "source": [
    "#### Theoretisch möglich, aber praktisch verwirrend und nur in Spezialfällen anzuwenden:\n",
    "- By Reference übergeben und modifizieren.\n",
    "```C++\n",
    "void square(double& x){ x=x*x; }\n",
    "auto value = 3.14;\n",
    "square(value);\n",
    "// Nicht sofort ersichtlich, \n",
    "// dass value geändert wird.\n",
    "```\n",
    "- Viel klarer: Rückgabewerte!\n",
    "```C++\n",
    "auto square(double x){ return x*x;}\n",
    "auto value = 3.14;\n",
    "value = square(value);\n",
    "// Hier wird value ganz klar geändert.\n",
    "```\n",
    "\n",
    "**Praxistipp**: Funktionales Denken: Vermeide Funktionen mit Nebeneffekten. Eine Funktion soll zu Eingabewerten einen (oder mehrere in Form eines `std::tuple`) Rückgabewert liefern."
   ]
  },
  {
   "cell_type": "markdown",
   "metadata": {
    "slideshow": {
     "slide_type": "slide"
    }
   },
   "source": [
    "### <a href=\"http://cpp.sh/6j6g\">Standardgrüße erweitert</a>\n",
    "```C++\n",
    "#include <iostream>\n",
    "// This is a comment\n",
    "auto read_excitement(){\n",
    "    auto excitement = 0;\n",
    "    std::cout << \"Please enter your \"\n",
    "                 \"level of excitement (int>0)\"\n",
    "              << std::endl\n",
    "              << \"excitement = \";\n",
    "    std::cin >> excitement;\n",
    "    return excitement;\n",
    "}\n",
    "int main(int argc, char *argv[]){\n",
    "    auto emphasis = 0;\n",
    "    while (emphasis <= 0){\n",
    "        emphasis = read_excitement();\n",
    "    }\n",
    "    std::cout << \"Hello World\";\n",
    "    for (auto i=0; i<emphasis; ++i){\n",
    "        std::cout << \"!\";\n",
    "    }\n",
    "    std::cout << std::endl;\n",
    "    return 0;\n",
    "}\n",
    "```"
   ]
  },
  {
   "cell_type": "markdown",
   "metadata": {
    "slideshow": {
     "slide_type": "subslide"
    }
   },
   "source": [
    "### Erster Inhalt:\n",
    "- Präprozessor-Direktive `#include`\n",
    "- Kommentare\n",
    "- `main`-Funktion\n",
    "- Array von C-Style Strings: `char* argv[]`\n",
    "- Variablen erstellen\n",
    "- `for`, `while`\n",
    "- Namespace-Resolution-Operator `::`\n",
    "- Standard Input `cin`\n",
    "- Standard Output `cout`"
   ]
  },
  {
   "cell_type": "markdown",
   "metadata": {
    "slideshow": {
     "slide_type": "slide"
    }
   },
   "source": [
    "### Präprozessor-Direktiven\n",
    "- Beginnen mit \"`#`\"\n",
    "- Beispiele:\n",
    "    - `#include`: Bindet Datei ein\n",
    "    - `#pragma ...` : Compiler specific\n",
    "        - `#pragma omp parallel for`: OpenMP Parallelisierung\n",
    "    - `#define`: Für Definition von Macros (*\"Wenn möglich vermeiden\"*)\n"
   ]
  },
  {
   "cell_type": "markdown",
   "metadata": {
    "slideshow": {
     "slide_type": "slide"
    }
   },
   "source": [
    "### Kompilieren und Aufteilung in .hpp und .cpp Files\n",
    "<center>\n",
    "<img src=\"https://upload.wikimedia.org/wikipedia/commons/thumb/c/c9/C%2B%2B_compilation_process.svg/354px-C%2B%2B_compilation_process.svg.png\" width=\"35%\"\\>\n",
    "</center>"
   ]
  },
  {
   "cell_type": "markdown",
   "metadata": {
    "slideshow": {
     "slide_type": "subslide"
    }
   },
   "source": [
    "Für kleine Spielereien kann man auf `.hpp` Files verzichten und den gesamten Code in eine Datei geben.\n",
    "\n",
    "**Praxistipp für ernsthafte Projekte:**\n",
    "\n",
    "- Code nach Zusammengehörigkeit in Dateien sortieren. Beispiel: Eine .cpp Datei pro Klasse.\n",
    "- Für jede .cpp Datei eine .hpp Datei gleichen Namens mit zugehörigen Deklarationen.\n",
    "- Das .cpp File soll mit `#include \"DATEINAME.hpp\"` beginnen\n",
    "- Wenn in einer Datei eine Variable/Funktion/Klasse aus \"A.cpp\" verwendet wird, dann muss sie mit `#include \"A.hpp\"` beginnen\n",
    "- Header only, falls .cpp-File sehr klein ausfallen würde."
   ]
  },
  {
   "cell_type": "markdown",
   "metadata": {
    "slideshow": {
     "slide_type": "slide"
    }
   },
   "source": [
    "\n",
    "### Blöcke - Der unsichtbare Putztrupp"
   ]
  },
  {
   "cell_type": "markdown",
   "metadata": {
    "slideshow": {
     "slide_type": "fragment"
    }
   },
   "source": [
    "#### Scope & Lifetime\n",
    "```C++\n",
    "\n",
    "auto answer = 15;\n",
    "auto the_answer(){\n",
    "    auto answer = 42;\n",
    "    if (1+1 == 2){\n",
    "        auto answer = 3;\n",
    "    }\n",
    "    return answer;\n",
    "}\n",
    "std::cout << the_answer();\n",
    "std::cout << answer;\n",
    "```\n",
    "\n",
    "Deterministisches Aufräumen: Unscheinbar, aber das wohl beste Feature aus C++."
   ]
  },
  {
   "cell_type": "markdown",
   "metadata": {
    "slideshow": {
     "slide_type": "slide"
    }
   },
   "source": [
    "### Stack&Heap"
   ]
  },
  {
   "cell_type": "markdown",
   "metadata": {
    "slideshow": {
     "slide_type": "subslide"
    }
   },
   "source": [
    "### Stack\n",
    "- Stored in computer RAM just like the heap.\n",
    "- Variables created on the stack will go out of scope and automatically deallocate.\n",
    "- Much faster to allocate in comparison to variables on the heap.\n",
    "- Implemented with an actual stack data structure.\n",
    "- Can have a stack overflow when too much of the stack is used. (mostly from infinite (or too much) recursion, very large allocations)\n",
    "- Data created on the stack can be used without pointers.\n",
    "- You would use the stack if you know exactly how much data you need to allocate before compile time and it is not too big.\n",
    "- Usually has a maximum size already determined when your program starts"
   ]
  },
  {
   "cell_type": "markdown",
   "metadata": {
    "slideshow": {
     "slide_type": "subslide"
    }
   },
   "source": [
    "### Heap\n",
    "- Stored in computer RAM just like the stack.\n",
    "- Variables on the heap must be destroyed manually and never fall out of scope. The data is freed with `delete`, `delete[]` or `free`\n",
    "- Slower to allocate in comparison to variables on the stack (via `new`, `new[]` and `malloc`).\n",
    "- Used on demand to allocate a block of data for use by the program.\n",
    "- Can have fragmentation when there are a lot of allocations and deallocations\n",
    "- In C++ data created on the heap will be pointed to by pointers and allocated with `new` or `malloc`\n",
    "- Can have allocation failures if too big of a buffer is requested to be allocated.\n",
    "- You would use the heap if you don't know exactly how much data you will need at runtime or if you need to allocate a lot of data.\n",
    "- Responsible for memory leaks"
   ]
  },
  {
   "cell_type": "markdown",
   "metadata": {
    "slideshow": {
     "slide_type": "slide"
    }
   },
   "source": [
    "## Eine Reise in die Vergangenheit:\n",
    "\n",
    "- Pointer\n",
    "- C-Style Arrays"
   ]
  },
  {
   "cell_type": "markdown",
   "metadata": {
    "slideshow": {
     "slide_type": "subslide"
    }
   },
   "source": [
    "## Pointer:\n",
    "\n",
    "Eine Variable die eine Memory-Adresse speichert:\n",
    "<center>\n",
    "<img src=\"https://upload.wikimedia.org/wikipedia/commons/b/b4/Pointers.svg\" width=\"50%\"\\></center>"
   ]
  },
  {
   "cell_type": "markdown",
   "metadata": {
    "slideshow": {
     "slide_type": "subslide"
    }
   },
   "source": [
    "- Deklaration mittels\n",
    "\n",
    "```C++\n",
    "Typ* name_des_pointers = adresse;\n",
    "```\n",
    "- Adresse einer Variable mittels `&`-Operator. (**Achtung!** Nicht mit Referenzen verwechseln!)\n",
    "- Wert an einer Adresse mittels  `*`-Operator. (*\"Dereferenzieren\"*)\n",
    "\n",
    "Beispiel:\n",
    "\n",
    "```C++\n",
    "using namespace std;\n",
    "int a = 123456;\n",
    "int* ptr_a = &a;\n",
    "  \n",
    "cout << \"Wert von ptr_a: \" << ptr_a << endl;\n",
    "cout << \"Wert von *ptr_a: \" << *ptr_a << endl;\n",
    "\n",
    "cout << \"Wert von a: \" << a << endl;  \n",
    "*ptr_a = 7;\n",
    "cout << \"Wert von a: \" << a << endl;\n",
    "```"
   ]
  },
  {
   "cell_type": "markdown",
   "metadata": {
    "slideshow": {
     "slide_type": "subslide"
    }
   },
   "source": [
    "```C++\n",
    "#include <iostream>\n",
    "\n",
    "int main() {\n",
    "    int* ip = new int{-123};\n",
    "\n",
    "    std::cout << \"Accessing the pointer ip: (\"<< ip << \") - Value=\" << *ip << std::endl;\n",
    "    std::cout << \"Accessing the variable \"\n",
    "    for (auto i = 1; i<10000; i++){\n",
    "        std::cout << \"Accessing memory(\" << ip+i << \") - Value=\" << *(ip+i) << std::endl;\n",
    "    }\n",
    "    delete ip;\n",
    "    return 0;\n",
    "}\n",
    "```"
   ]
  },
  {
   "cell_type": "markdown",
   "metadata": {
    "slideshow": {
     "slide_type": "subslide"
    }
   },
   "source": [
    "Eine Funktion die eine neue Variable am Heap erstellt und händisch gelöscht werden muss.\n",
    "```C++\n",
    "int* create_int_on_heap(){\n",
    "    return new int{-123};\n",
    "}\n",
    "int* int_ptr = create_int_on_heap();\n",
    "*int_ptr = -122;\n",
    "... // Some computation\n",
    "delete int_ptr;\n",
    "```\n",
    "Warum braucht man `new` überhaupt?\n",
    "```C++\n",
    "int* create_int_on_stack(){\n",
    "    int i = 123;\n",
    "    return &i; // FAULTY CODE!!!\n",
    "               // This will silently\n",
    "               // break everything. :-(\n",
    "}\n",
    "```\n",
    "<span style=\"color:red\">Deshalb:</span> An der Adresse die von `create_int_on_stack` zurückgegeben wird existiert nach Ende der Funktion nichts mehr! Wenn anschließend darauf zugegriffen wird kann nichts Gutes mehr passieren!"
   ]
  },
  {
   "cell_type": "markdown",
   "metadata": {
    "slideshow": {
     "slide_type": "subslide"
    }
   },
   "source": [
    "- Zweck:\n",
    "  - Hardwarenahes Konzept das vom Stack/Heap Prinzip kommt.\n",
    "  - In C (und damit auch C++) werden Funktionsargumente kopiert bevor die Funktion aufgerufen wird. Mit Pointern kann man das Kopieren großer Datenmengen verhindern.\n",
    "- Verwende `nullptr` für Zeiger die auf nichts zeigen sollen. (veraltet: NULL)\n",
    "\n",
    "- *\"Wenn möglich, vermeiden.\"* (Wer gerne Sterne sieht soll sich ein Teleskop kaufen)\n",
    "- Alternativen:\n",
    "  - **Referenzen!**\n",
    "  - Smart pointer: `unique_ptr`, `shared_ptr`, `weak_ptr`"
   ]
  },
  {
   "cell_type": "markdown",
   "metadata": {
    "slideshow": {
     "slide_type": "subslide"
    }
   },
   "source": [
    "C-Summe mit Pointern\n",
    "```C\n",
    "// C Code!!\n",
    "double sum_old_fashioned(double* array_ptr, \n",
    "                         int length){\n",
    "    double sum = 0;\n",
    "    for (int i = 0; i < length; ++i){\n",
    "        sum += array_ptr[i];\n",
    "        // is identical to:\n",
    "        // sum += *(array_ptr+i);\n",
    "    }\n",
    "    return sum;\n",
    "}\n",
    "double values[4] = {1000.0, 2.0, 3.4, 7.0};\n",
    "sum_old_fashioned(values, 4);\n",
    "```"
   ]
  },
  {
   "cell_type": "markdown",
   "metadata": {
    "slideshow": {
     "slide_type": "subslide"
    }
   },
   "source": [
    "Stattdessen C++ mit Referenzen:\n",
    "```C++\n",
    "auto sum(const std::vector<double>& v){\n",
    "    auto sum = 0.;\n",
    "    for (const auto& e : v){\n",
    "        sum += e;\n",
    "    }\n",
    "    return sum;\n",
    "}\n",
    "sum(std::vector<double>{1000.0, 2.0, 3.4, 7.0});\n",
    "```"
   ]
  },
  {
   "cell_type": "markdown",
   "metadata": {
    "slideshow": {
     "slide_type": "subslide"
    }
   },
   "source": [
    "### C-Style Arrays:\n",
    "####Syntax:\n",
    "- Am Stack (automatisch gelöscht.)\n",
    "```C++\n",
    "int foos[5];\n",
    "```\n",
    "- Am Heap (zum selber löschen)\n",
    "```C++\n",
    "int* foos = new int[5];\n",
    "```\n",
    "- Werden implizit zu Pointer auf ersten Eintrag umgewandelt.\n",
    "- Brauchen wir nicht mehr"
   ]
  },
  {
   "cell_type": "markdown",
   "metadata": {
    "slideshow": {
     "slide_type": "subslide"
    }
   },
   "source": [
    "```C++\n",
    "#include <iostream>\n",
    "\n",
    "int main() {\n",
    "\tint* ip = new int[10]; // YUCK! Use\n",
    "                           // std::vector instead\n",
    "    for (auto i = 0; i<10; i++){\n",
    "        ip[i] = 0;\n",
    "    }\n",
    "\t...\n",
    "\tdelete ip;\n",
    "\treturn 0;\n",
    "}\n",
    "```"
   ]
  },
  {
   "cell_type": "markdown",
   "metadata": {
    "slideshow": {
     "slide_type": "subslide"
    }
   },
   "source": [
    "### Mehrere Rückgabewerte:\n",
    "Achtung: Mehrere Rückgabewerte? Ganz sicher? Bedenke vorher folgende Alternativen: Sollte der Output in einen eigenen Datentyp gekapselt werden? Sollte die Funktion in mehrere Funktionen aufgeteilt werden?\n",
    "####C-Stil: \n",
    "```C++\n",
    "void get_mean_pressure_and_mean_temperature(GRIB_DATA* grib, double* pressure_pointer, double* temperature_pointer){\n",
    "    double temperature_help = 0.;\n",
    "    double pressure_help = 0.;\n",
    "    for (....){\n",
    "        ....\n",
    "    }\n",
    "    *pressure_pointer = pressure_help;\n",
    "    *temperature_pointer = temperature_help;\n",
    "}\n",
    "double press;\n",
    "double temp;\n",
    "GRIB_DATA* grib_file_from_monday = ...;\n",
    "...\n",
    "get_mean_pressure_and_mean_temperature(grib_file_from_monday, &press, &temp);\n",
    "```\n",
    "Ganz klar: Am Besten zwei verschiedene Funktionen verwenden, aber angenommen das Beispiel wäre sinnvoll:"
   ]
  },
  {
   "cell_type": "markdown",
   "metadata": {
    "slideshow": {
     "slide_type": "subslide"
    }
   },
   "source": [
    "####C++-Stil:\n",
    "```C++\n",
    "using namespace std;\n",
    "tuple<double, double> get_mean_pressure_and_mean_temperature(const GRIB_DATA& grib){\n",
    "    int n = number_of_measurements(grib);\n",
    "    double mean_press = accumulate(...)/n;\n",
    "    double mean_temp = accumulate(...)/n;\n",
    "    return make_tuple(mean_press, mean_temp);\n",
    "}\n",
    "double press, temp;\n",
    "GRIB_DATA grib_file_from_monday = ...;\n",
    "tie(press, temp) = get_mean_pressure_and_mean_temperature(grib_file_from_monday);\n",
    "```"
   ]
  },
  {
   "cell_type": "markdown",
   "metadata": {
    "slideshow": {
     "slide_type": "slide"
    }
   },
   "source": [
    "### Objektorientiertes Programmieren\n",
    "Warum kann ich den Wasserstand bei meiner Waschmaschine nicht selbst manuell regeln? Ein Zulauf-Hahn und Ablauf-Hahn wäre doch toll!\n",
    "\n",
    "- Pro:\n",
    "    - Ich habe gern die volle Kontrolle.\n",
    "    - Kann den Wasserstand individuell perfekt auf meine Wäsche einstellen.\n",
    "    - Oma hat das auch so ähnlich gemacht!\n",
    "- Contra:\n",
    "    - Es gibt eigentlich nur wenige sinnvolle Füllmengen.\n",
    "    - Ich sehe lieber fern.\n",
    "    - Das Telefon klingelt $\\to$ Überschwemmung\n"
   ]
  },
  {
   "cell_type": "markdown",
   "metadata": {
    "slideshow": {
     "slide_type": "subslide"
    }
   },
   "source": [
    "Der Hersteller hat sich dagegen entschieden und gibt mir nur ein paar verschiedene Knöpfe für sinnvolle Waschprogramme.\n",
    "\n",
    "Und weil das so viele Informatiker ähnlich sehen hat man **objektorientiertes Programmieren** erfunden."
   ]
  },
  {
   "cell_type": "markdown",
   "metadata": {
    "slideshow": {
     "slide_type": "subslide"
    }
   },
   "source": [
    "### Objekte\n",
    "- Objekte enthalten Daten (\"*Member Variablen*\") und Funktionen (\"*Methoden*\") die mit diesen Daten arbeiten können.\n",
    "- Verstecken Implementierungsdetails und stellen einfach zu handhabende Schnittstellen zur Verfügung.\n",
    "- Schablonen für gleichartige Objekte nennt man Klassen.\n"
   ]
  },
  {
   "cell_type": "markdown",
   "metadata": {
    "slideshow": {
     "slide_type": "subslide"
    }
   },
   "source": [
    "\n",
    "**Vorteile:** \n",
    "- Bei der Erstellung des Objektes kann überprüft werden, ob die Daten überhaupt sinnvoll sind.\n",
    "- Es können nachträgliche Änderungen an den Daten verhindert werden und stattdessen ein Fehler angezeigt werden. (Man kann so zum Beispiel Programmierfehler bei Programmen finden die gar nichts ändern sollten.)\n",
    "\n",
    "Statt:\n",
    "\n",
    "```C++\n",
    "waschmaschinen_wasserstand = 1e9; \n",
    "//Hoppla, wollte eigentlich 19 schreiben\n",
    "//Ich hol schon mal einen Eimer\n",
    "```\n",
    "ist folgende Situation denkbar:\n",
    "\n",
    "```C++\n",
    "Waschmaschine.setze_wasserstand_auf(1e9); \n",
    "//AEG 9000: \"I'm afraid I can't do that Dave.\"\n",
    "``` "
   ]
  },
  {
   "cell_type": "markdown",
   "metadata": {
    "slideshow": {
     "slide_type": "subslide"
    }
   },
   "source": [
    "####Beispiele für denkbare Klassen:\n",
    "- `Measurement`:\n",
    "    - Member Variablen: `date`, `time`, `position`, `type`, `unit`, `value`\n",
    "    - \"-99 Kelvin? Da wars ja ganz schön kalt gestern.\"\n",
    "- `MeasurementSeries`:\n",
    "    - Member Variablen: `vector<std::measurement> measurements`\n",
    "    - Methoden: `mean()`, `standard_deviation()`"
   ]
  },
  {
   "cell_type": "markdown",
   "metadata": {
    "slideshow": {
     "slide_type": "subslide"
    }
   },
   "source": [
    "- `Grid`:\n",
    "    - Member Variablen: `longitudes`, `latitudes`\n",
    "    - Methoden: `is_rectangular()`, `get_corners()`, `extract_grid(Subgrid)`, `is_point_inside(Point)`\n",
    "- `Field`:\n",
    "    - Member Variablen: `Grid`, `vector<measurements>`\n",
    "    - Methoden: `-`, `+`, ... um die Differenz/Summe zweier Felder zu bilden.\n",
    "- `Field_Interpolator`:\n",
    "    - Member Variablen: Geheim.\n",
    "    - Methoden: `value_at_lon_lat()`"
   ]
  },
  {
   "cell_type": "markdown",
   "metadata": {
    "slideshow": {
     "slide_type": "subslide"
    }
   },
   "source": [
    "###Erste Klasse\n",
    "\n",
    "```C++\n",
    "class Measurement{\n",
    "public:\n",
    "    double latitude;\n",
    "    double longitude;\n",
    "    double value;\n",
    "    std::string type;\n",
    "};\n",
    "```"
   ]
  },
  {
   "cell_type": "markdown",
   "metadata": {
    "slideshow": {
     "slide_type": "subslide"
    }
   },
   "source": [
    "### Konstruktor & Destruktor\n",
    "#### Konstruktor\n",
    "\n",
    "- Wird bei Erstellung eines Objektes aufgerufen.\n",
    "- Bringt das Objekt in einen verwendbaren Zustand.\n",
    "\n",
    "\n",
    "#### Destruktor\n",
    "- Destruktor wird beim Löschen eines Objektes aufgerufen \n",
    "- Er führt Aufräumarbeiten durch.\n",
    "- Bei allen (Stack-)Variablen automatisch am Ende des Blocks.\n",
    "- Bei Pointern wird auch nur der Pointer selbst zerstört, nicht worauf gezeigt wird."
   ]
  },
  {
   "cell_type": "markdown",
   "metadata": {
    "slideshow": {
     "slide_type": "subslide"
    }
   },
   "source": [
    "#### Scope & Lifetime revisited\n",
    "```C++\n",
    "#include <stdio.h>\n",
    "#include <fstream>\n",
    "int main(int argc, char *argv[]){\n",
    "\n",
    "    // C Style - YUCK!\n",
    "    FILE* file;\n",
    "    file = fopen( \"example1.txt\", \"w\" );\n",
    "    fprintf(file, \"%s:%d\\n\", \"Teststring\", 1234);\n",
    "    fclose( file );\n",
    "\n",
    "    // C++ Style - Tasty!\n",
    "    std::ofstream ofs(\"example2.txt\");\n",
    "    ofs << \"Teststring: \" << 1234 << std::endl;\n",
    "}\n",
    "```\n",
    "- C: `fclose` vergessen $\\to$ Probleme (typischerweise nach vielen geöffneten Dateien)\n",
    "- C++ denkt für uns mit und räumt ungefragt auf!"
   ]
  },
  {
   "cell_type": "markdown",
   "metadata": {
    "slideshow": {
     "slide_type": "subslide"
    }
   },
   "source": [
    "### Konstruktor & Destruktor - Syntax\n",
    "\n",
    "\n",
    "- Konstruktor\n",
    "\n",
    "```C++\n",
    "Klassenname(Parametertyp parameter, ...) : // Parameter\n",
    "member{parameter}, ... { // Initialisierungsliste\n",
    "    Anweisungen(); // Kann oft leer bleiben\n",
    "    ...\n",
    "};\n",
    "```\n",
    "- Destruktor \n",
    "\n",
    "```C++\n",
    "~Klassenname(){...};\n",
    "```"
   ]
  },
  {
   "cell_type": "markdown",
   "metadata": {
    "slideshow": {
     "slide_type": "subslide"
    }
   },
   "source": [
    "```C++\n",
    "class Measurement{\n",
    "    public:\n",
    "        double latitude;\n",
    "        double longitude;\n",
    "        std::string type;\n",
    "        double value;\n",
    "        Measurement(double latitude,\n",
    "                    double longitude,\n",
    "                    std::string type,\n",
    "                    double value) : \n",
    "            latitude{latitude},\n",
    "            longitude{longitude},\n",
    "            type{type},\n",
    "            value{value}\n",
    "            {/* Nothing more to do.*/};\n",
    "        ~Measurement(){/* Nothing to do.*/};\n",
    "};\n",
    "```\n",
    "Den leeren Destruktor hätten wir auch weglassen können. C++ würde ihn dann selbständig generieren."
   ]
  },
  {
   "cell_type": "markdown",
   "metadata": {
    "slideshow": {
     "slide_type": "subslide"
    }
   },
   "source": [
    "Nun können Messungen erstellt werden mittels:\n",
    "\n",
    "```C++\n",
    "auto m1 = Measurement{48., 16.,\n",
    "                      \"Temperature\"s, 280.};\n",
    "```"
   ]
  },
  {
   "cell_type": "markdown",
   "metadata": {
    "slideshow": {
     "slide_type": "subslide"
    }
   },
   "source": [
    "### public & private\n",
    "- Auf `public` Member dürfen alle zugreifen (Im Beispiel: Programmwahl der Waschmaschine)\n",
    "- Auf `private` Member darf nur die Klasse selbst zugreifen (Im Beispiel: Drehzahlregelungs-Chip der Waschmaschine)\n",
    "\n",
    "**Praxistipp:** Standardmäßig (Hilfs-)funktionen und Implementierungsdetails `private`, nur Schnittstellen `public`."
   ]
  },
  {
   "cell_type": "markdown",
   "metadata": {
    "slideshow": {
     "slide_type": "subslide"
    }
   },
   "source": [
    "### Scoped enums \n",
    "Klasse die endliche Anzahl an Werten repräsentieren soll.\n",
    "\n",
    "Am Beispiel des Typs der Messung. Anstatt `std::string` verwende eine *scoped `enum`*.\n",
    "\n",
    "Schlüsselwort: `enum class`\n",
    "\n",
    "```C++\n",
    "enum class Measurement_Type {Temperature, Wind_Speed, Humidity};\n",
    "```\n",
    "\n",
    "Anstatt: \n",
    "```C++\n",
    "auto m1 = Measurement{48., 16., \"Temperature\"s, 280.}; // Or:\n",
    "if (type == \"Wind Speed\"s) // Etc.\n",
    "```\n",
    "verwende:\n",
    "```C++\n",
    "auto type = Measurement{48., 16., Measurement_Type::Temperature, 280.}; // Or:\n",
    "if (type == Measurement_Type::Wind_Speed) // Etc.\n",
    "\n",
    "```\n",
    "\n",
    "\n",
    "Das verhindert z.B. Tippfehler: `\"Tempreature\"` statt `\"Temperature\"` würde bei einem `std::string` vom Compiler nicht als Fehler erkannt werden. Bei scoped `enum`s wird dieser Fehler automatisch erkannt.\n",
    "\n",
    "\n"
   ]
  },
  {
   "cell_type": "markdown",
   "metadata": {
    "slideshow": {
     "slide_type": "subslide"
    }
   },
   "source": [
    "Damit würde unsere Klasse von vorhin so aussehen:\n",
    "```C++\n",
    "enum class Measurement_Type {Temperature, Wind_Speed, Humidity};\n",
    "class Measurement{\n",
    "public:\n",
    "    double latitude;\n",
    "    double longitude;\n",
    "    double value;\n",
    "    Measurement_Type type; // Statt std::string\n",
    "    ...\n",
    "};\n",
    "```"
   ]
  },
  {
   "cell_type": "markdown",
   "metadata": {
    "slideshow": {
     "slide_type": "subslide"
    }
   },
   "source": [
    "Man kann das scoped `enum` auch innerhalb der Klasse definieren. Damit liegt es im `Measurement`-Namespace, weswegen bei der Verwendung `Measurement::` vorangstellt werden muss. (Ein Indiz, dass so ein `enum` in die Klasse gehört ist schon der Variablenname `Measurement_Type`.)\n",
    "\n",
    "```C++\n",
    "class Measurement{\n",
    "public:\n",
    "    double latitude;\n",
    "    double longitude;\n",
    "    double value;\n",
    "    enum class Type {Temperature, Wind_Speed, Humidity};\n",
    "    Type type; // Statt std::string\n",
    "    ...\n",
    "};\n",
    "```\n",
    "Damit würde der Aufruf des Konstruktors so aussehen:\n",
    "```C++\n",
    "auto m1 = Measurement{3.12, 41.2, Measurement::Type::Temperature, 123.};\n",
    "```\n"
   ]
  },
  {
   "cell_type": "markdown",
   "metadata": {},
   "source": [
    "http://cpp.sh/5pdy\n",
    "\n",
    "```C++\n",
    "// Example program\n",
    "#include <iostream>\n",
    "#include <string>\n",
    "#include <vector>\n",
    "#include <algorithm>\n",
    "\n",
    "class Measurement{\n",
    "public:\n",
    "    double latitude;\n",
    "    double longitude;\n",
    "    double value;\n",
    "    std::string type;\n",
    "    Measurement(double latitude, double longitude, std::string type, double value) : \n",
    "        latitude{latitude}, longitude{longitude}, value{value}, type{type}\n",
    "        {\n",
    "            // Hier könnten noch andere Dinge passieren    \n",
    "        };\n",
    "    ~Measurement(){};\n",
    "    bool operator==(const Measurement& rhs) const {\n",
    "        std::cout << latitude << \" \" << rhs.latitude << std::endl\n",
    "                  << longitude << \" \" << rhs.longitude << std::endl\n",
    "                  << value << \" \" << rhs.value << std::endl\n",
    "                  << type << \" \" << rhs.type << std::endl;\n",
    "        auto is_equal = (latitude==rhs.latitude)&&\n",
    "                        (longitude==rhs.longitude)&&\n",
    "                        (value==rhs.value)&&\n",
    "                        (type==rhs.type);\n",
    "        std::cout << std::boolalpha << is_equal << std::endl;\n",
    "        return is_equal;}\n",
    "};\n",
    "\n",
    "\n",
    "int main()\n",
    "{\n",
    "    using namespace std::string_literals;\n",
    "    using std::begin;\n",
    "    using std::end;\n",
    "    auto m1 = Measurement{3.12, 41.2, \"Temperature\"s, 123.};\n",
    "    auto m2 = m1;\n",
    "    //std::cout << std::boolalpha << (m1==m2) << std::endl;\n",
    "    m2.latitude = 3;\n",
    "    //std::cout << std::boolalpha << (m1==m2) << std::endl;\n",
    "\n",
    "    auto measurements = std::vector<Measurement> {m1, m2, m1, m2, m1};\n",
    "    std::sort(begin(measurements), end(measurements), [](auto a, auto b){ return a.latitude < b.latitude;});\n",
    "    measurements.erase( std::unique( begin(measurements), end(measurements) ), end(measurements) );\n",
    "    for (auto& m : measurements){\n",
    "        std::cout << m.latitude << \" \" << m.longitude << \" \" << m.value << std::endl;\n",
    "        m = m1;\n",
    "    }\n",
    "}\n",
    "```"
   ]
  },
  {
   "cell_type": "markdown",
   "metadata": {},
   "source": [
    "# ENDE GELÄNDE"
   ]
  },
  {
   "cell_type": "markdown",
   "metadata": {
    "slideshow": {
     "slide_type": "slide"
    }
   },
   "source": [
    "### General Code Smells\n",
    "####Comments\n",
    "There's a fine line between comments that illuminate and comments that obscure. Are the comments necessary? Do they explain \"why\" and not \"what\"? Can you refactor the code so the comments aren't required? And remember, you're writing comments for people, not machines.\n",
    "####Long Method\n",
    "All other things being equal, a shorter method is easier to read, easier to understand, and easier to troubleshoot. Refactor long methods into smaller methods if you can.\n",
    "####Long Parameter List\n",
    "The more parameters a method has, the more complex it is. Limit the number of parameters you need in a given method, or use an object to combine the parameters.\n",
    "####Duplicated code\n",
    "Duplicated code is the bane of software development. Stamp out duplication whenever possible. You should always be on the lookout for more subtle cases of near-duplication, too. Don't Repeat Yourself!\n",
    "####Conditional Complexity\n",
    "Watch out for large conditional logic blocks, particularly blocks that tend to grow larger or change significantly over time. Consider alternative object-oriented approaches such as decorator, strategy, or state.\n",
    "####Combinitorial Explosion\n",
    "You have lots of code that does almost the same thing.. but with tiny variations in data or behavior. This can be difficult to refactor-- perhaps using generics or an interpreter?\n",
    "####Large Class\n",
    "Large classes, like long methods, are difficult to read, understand, and troubleshoot. Does the class contain too many responsibilities? Can the large class be restructured or broken into smaller classes?\n",
    "####Type Embedded in Name\n",
    "Avoid placing types in method names; it's not only redundant, but it forces you to change the name if the type changes.\n",
    "####Uncommunicative Name\n",
    "Does the name of the method succinctly describe what that method does? Could you read the method's name to another developer and have them explain to you what it does? If not, rename it or rewrite it.\n",
    "Inconsistent Names \tPick a set of standard terminology and stick to it throughout your methods. For example, if you have Open(), you should probably have Close().\n",
    "####Dead Code\n",
    "Ruthlessly delete code that isn't being used. That's why we have source control systems!\n",
    "Speculative Generality \tWrite code to solve today's problems, and worry about tomorrow's problems when they actually materialize. Everyone loses in the \"what if..\" school of design. You (Probably) Aren't Gonna Need It.\n",
    "####Oddball Solution\n",
    "There should only be one way of solving the same problem in your code. If you find an oddball solution, it could be a case of poorly duplicated code-- or it could be an argument for the adapter model, if you really need multiple solutions to the same problem.\n",
    "####Temporary Field\n",
    "Watch out for objects that contain a lot of optional or unnecessary fields. If you're passing an object as a parameter to a method, make sure that you're using all of it and not cherry-picking single fields.\n",
    "Code Smells Between Classes"
   ]
  },
  {
   "cell_type": "markdown",
   "metadata": {
    "slideshow": {
     "slide_type": "slide"
    }
   },
   "source": [
    "### OOP Code Smells\n",
    "####Alternative Classes with Different Interfaces\n",
    "If two classes are similar on the inside, but different on the outside, perhaps they can be modified to share a common interface.\n",
    "####Primitive Obsession\n",
    "Don't use a gaggle of primitive data type variables as a poor man's substitute for a class. If your data type is sufficiently complex, write a class to represent it. \n",
    "####Data Class\n",
    "Avoid classes that passively store data. Classes should contain data and methods to operate on that data, too.\n",
    "####Data Clumps\n",
    "If you always see the same data hanging around together, maybe it belongs together. Consider rolling the related data up into a larger class.\n",
    "####Refused Bequest\n",
    "If you inherit from a class, but never use any of the inherited functionality, should you really be using inheritance?\n",
    "####Inappropriate Intimacy\n",
    "Watch out for classes that spend too much time together, or classes that interface in inappropriate ways. Classes should know as little as possible about each other.\n",
    "####Indecent Exposure\n",
    "Beware of classes that unnecessarily expose their internals. Aggressively refactor classes to minimize their public surface. You should have a compelling reason for every item you make public. If you don't, hide it.\n",
    "####Feature Envy\n",
    "Methods that make extensive use of another class may belong in another class. Consider moving this method to the class it is so envious of.\n",
    "####Lazy Class\n",
    "Classes should pull their weight. Every additional class increases the complexity of a project. If you have a class that isn't doing enough to pay for itself, can it be collapsed or combined into another class?\n",
    "Message Chains \tWatch out for long sequences of method calls or temporary variables to get routine data. Intermediaries are dependencies in disguise. \n",
    "####Middle Man\n",
    "If a class is delegating all its work, why does it exist? Cut out the middleman. Beware classes that are merely wrappers over other classes or existing functionality in the framework.\n",
    "####Divergent Change\n",
    "If, over time, you make changes to a class that touch completely different parts of the class, it may contain too much unrelated functionality. Consider isolating the parts that changed in another class.\n",
    "####Shotgun Surgery\n",
    "If a change in one class requires cascading changes in several related classes, consider refactoring so that the changes are limited to a single class.\n",
    "####Parallel Inheritance Hierarchies\n",
    "Every time you make a subclass of one class, you must also make a subclass of another. Consider folding the hierarchy into a single class.\n",
    "####Incomplete Library Class\n",
    "We need a method that's missing from the library, but we're unwilling or unable to change the library to include the method. The method ends up tacked on to some other class. If you can't modify the library, consider isolating the method.\n",
    "####Solution Sprawl\n",
    "If it takes five classes to do anything useful, you might have solution sprawl. Consider simplifying and consolidating your design."
   ]
  },
  {
   "cell_type": "markdown",
   "metadata": {
    "slideshow": {
     "slide_type": "slide"
    }
   },
   "source": [
    "### Chrono literals\n",
    "```C++\n",
    "#include <iostream>\n",
    "#include <chrono>\n",
    " \n",
    "int main()\n",
    "{\n",
    "    using namespace std::chrono_literals;\n",
    "    auto day = 24h;\n",
    "    auto halfhour = 0.5h;\n",
    "    std::cout << \"one day is \" << day.count() << \" hours\\n\"\n",
    "              << \"half an hour is \" << halfhour.count() << \" hours\\n\";\n",
    "}\n",
    "```"
   ]
  },
  {
   "cell_type": "markdown",
   "metadata": {
    "collapsed": true,
    "slideshow": {
     "slide_type": "slide"
    }
   },
   "source": [
    "### User defined literals\n",
    "http://cpp.sh/4tgk\n",
    "```\n",
    "#include <iostream>\n",
    "using namespace std;\n",
    "\n",
    "struct Distance{\n",
    "    friend Distance operator\"\" _km(long double  val);\n",
    "    friend Distance operator\"\" _mi(long double val);\n",
    "\n",
    "private:\n",
    "    explicit Distance(long double val) : kilometers{val}\n",
    "    {}\n",
    "\n",
    "    long double kilometers{ 0 };\n",
    "public:\n",
    "    long double get_kilometers() const { return kilometers; }\n",
    "    Distance operator+(const Distance& other) const\n",
    "    {\n",
    "        return Distance(get_kilometers() + other.get_kilometers());\n",
    "    }\n",
    "};\n",
    "\n",
    "Distance operator\"\" _km(long double  val)\n",
    "{\n",
    "    return Distance(val);\n",
    "}\n",
    "\n",
    "Distance operator\"\" _mi(long double val)\n",
    "{\n",
    "    return Distance(val * 1.6);\n",
    "}\n",
    "int main(int argc, char* argv[])\n",
    "{\n",
    "    // Must have a decimal point to bind to the operator we defined!\n",
    "    Distance d{ 402.0_km }; // construct using kilometers\n",
    "    cout << \"Kilometers in d: \" << d.get_kilometers() << endl; // 402\n",
    "\n",
    "    Distance d2{ 402.0_mi }; // construct using miles\n",
    "    cout << \"Kilometers in d2: \" << d2.get_kilometers() << endl;  //643.2\n",
    "\n",
    "    // add distances constructed with different units\n",
    "    Distance d3 = 36.0_mi + 42.0_km;\n",
    "    cout << \"d3 value = \" << d3.get_kilometers() << endl; // 99.6\n",
    "\n",
    "   // Distance d4(90.0); // error constructor not accessible\n",
    "\n",
    "    return 0;\n",
    "}\n",
    "```"
   ]
  },
  {
   "cell_type": "markdown",
   "metadata": {
    "collapsed": true
   },
   "source": [
    "CSV Reader für Beispiele\n",
    "http://stackoverflow.com/questions/1120140/how-can-i-read-and-parse-csv-files-in-c"
   ]
  }
 ],
 "metadata": {
  "celltoolbar": "Slideshow",
  "kernelspec": {
   "display_name": "Python 2",
   "language": "python",
   "name": "python2"
  },
  "language_info": {
   "codemirror_mode": {
    "name": "ipython",
    "version": 2
   },
   "file_extension": ".py",
   "mimetype": "text/x-python",
   "name": "python",
   "nbconvert_exporter": "python",
   "pygments_lexer": "ipython2",
   "version": "2.7.10"
  }
 },
 "nbformat": 4,
 "nbformat_minor": 0
}
